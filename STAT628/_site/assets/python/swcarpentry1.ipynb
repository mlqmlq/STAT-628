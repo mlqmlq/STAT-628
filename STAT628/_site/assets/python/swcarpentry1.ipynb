{
 "cells": [
  {
   "cell_type": "markdown",
   "metadata": {},
   "source": [
    "## python introduction\n",
    "analyzing patient data"
   ]
  },
  {
   "cell_type": "code",
   "execution_count": null,
   "metadata": {
    "collapsed": true
   },
   "outputs": [],
   "source": [
    "import numpy"
   ]
  },
  {
   "cell_type": "code",
   "execution_count": null,
   "metadata": {
    "collapsed": false
   },
   "outputs": [],
   "source": [
    "data = numpy.loadtxt(fname='inflammation-01.csv', delimiter=',')\n",
    "data"
   ]
  },
  {
   "cell_type": "code",
   "execution_count": null,
   "metadata": {
    "collapsed": false
   },
   "outputs": [],
   "source": [
    "%whos"
   ]
  },
  {
   "cell_type": "code",
   "execution_count": null,
   "metadata": {},
   "outputs": [],
   "source": [
    "print(data)"
   ]
  },
  {
   "cell_type": "markdown",
   "metadata": {},
   "source": [
    "## data types"
   ]
  },
  {
   "cell_type": "code",
   "execution_count": null,
   "metadata": {},
   "outputs": [],
   "source": [
    "print(type(data))"
   ]
  },
  {
   "cell_type": "code",
   "execution_count": null,
   "metadata": {},
   "outputs": [],
   "source": [
    "print(data.dtype)"
   ]
  },
  {
   "cell_type": "code",
   "execution_count": null,
   "metadata": {},
   "outputs": [],
   "source": [
    "print(data.shape)"
   ]
  },
  {
   "cell_type": "markdown",
   "metadata": {},
   "source": [
    "## indices start at 0\n",
    "and intervals exclude the last value: [i,j["
   ]
  },
  {
   "cell_type": "code",
   "execution_count": null,
   "metadata": {},
   "outputs": [],
   "source": [
    "print('first value in data:', data[0, 0])"
   ]
  },
  {
   "cell_type": "code",
   "execution_count": null,
   "metadata": {
    "collapsed": false
   },
   "outputs": [],
   "source": [
    "small = data[:3, 36:]\n",
    "small"
   ]
  },
  {
   "cell_type": "code",
   "execution_count": null,
   "metadata": {},
   "outputs": [],
   "source": [
    "data[:3, 36:]\n",
    "print('small is:')\n",
    "print(small)"
   ]
  },
  {
   "cell_type": "markdown",
   "metadata": {},
   "source": [
    "## calculations on arrays of values"
   ]
  },
  {
   "cell_type": "code",
   "execution_count": null,
   "metadata": {},
   "outputs": [],
   "source": [
    "doubledata = data * 2.0"
   ]
  },
  {
   "cell_type": "code",
   "execution_count": null,
   "metadata": {},
   "outputs": [],
   "source": [
    "print('original:')\n",
    "print(data[:3, 36:])\n",
    "print('doubledata:')\n",
    "print(doubledata[:3, 36:])"
   ]
  },
  {
   "cell_type": "code",
   "execution_count": null,
   "metadata": {},
   "outputs": [],
   "source": [
    "tripledata = doubledata + data"
   ]
  },
  {
   "cell_type": "code",
   "execution_count": null,
   "metadata": {},
   "outputs": [],
   "source": [
    "print('tripledata:')\n",
    "print(tripledata[:3, 36:])"
   ]
  },
  {
   "cell_type": "code",
   "execution_count": null,
   "metadata": {
    "collapsed": false
   },
   "outputs": [],
   "source": [
    "numpy.mean(data)"
   ]
  },
  {
   "cell_type": "markdown",
   "metadata": {},
   "source": [
    "## importing modules\n",
    "\n",
    "what functions (or methods) are available? `name.` then press tab  \n",
    "help on functions (or methods): `name?` or `?name`"
   ]
  },
  {
   "cell_type": "code",
   "execution_count": null,
   "metadata": {},
   "outputs": [],
   "source": [
    "import time\n",
    "print(time.ctime())"
   ]
  },
  {
   "cell_type": "code",
   "execution_count": null,
   "metadata": {
    "collapsed": true
   },
   "outputs": [],
   "source": [
    "time.\n",
    "?time.strptime"
   ]
  },
  {
   "cell_type": "code",
   "execution_count": null,
   "metadata": {
    "collapsed": false
   },
   "outputs": [],
   "source": [
    "time.strftime?"
   ]
  },
  {
   "cell_type": "code",
   "execution_count": null,
   "metadata": {
    "collapsed": false
   },
   "outputs": [],
   "source": [
    "t1 = time.strptime(\"08/12/18 07:26:34 PM\", '%m/%d/%y %H:%M:%S %p')\n",
    "print(t1)\n",
    "t2 = time.mktime(t1) # in seconds since 1970\n",
    "print(t2/60/60/24)   # printed: in hours since 1970\n",
    "time.strftime('%Y-%m-%d', t1)"
   ]
  },
  {
   "cell_type": "code",
   "execution_count": null,
   "metadata": {
    "collapsed": false
   },
   "outputs": [],
   "source": [
    "data.any?"
   ]
  },
  {
   "cell_type": "code",
   "execution_count": null,
   "metadata": {},
   "outputs": [],
   "source": [
    "numpy.mean?"
   ]
  },
  {
   "cell_type": "code",
   "execution_count": null,
   "metadata": {},
   "outputs": [],
   "source": [
    "maxval, minval, stdval = numpy.max(data), numpy.min(data), numpy.std(data)\n",
    "\n",
    "print('maximum inflammation:', maxval)\n",
    "print('minimum inflammation:', minval)\n",
    "print('standard deviation:', stdval)"
   ]
  },
  {
   "cell_type": "code",
   "execution_count": null,
   "metadata": {},
   "outputs": [],
   "source": [
    "patient_0 = data[0, :] # 0 on the first axis, everything on the second\n",
    "print('maximum inflammation for patient 0:', patient_0.max())"
   ]
  },
  {
   "cell_type": "code",
   "execution_count": null,
   "metadata": {},
   "outputs": [],
   "source": [
    "type(patient_0)"
   ]
  },
  {
   "cell_type": "code",
   "execution_count": null,
   "metadata": {},
   "outputs": [],
   "source": [
    "print('maximum inflammation for patient 2:', numpy.max(data[2, :]))"
   ]
  },
  {
   "cell_type": "code",
   "execution_count": null,
   "metadata": {},
   "outputs": [],
   "source": [
    "print(numpy.mean(data, axis=0))"
   ]
  },
  {
   "cell_type": "code",
   "execution_count": null,
   "metadata": {},
   "outputs": [],
   "source": [
    "print(numpy.mean(data, axis=0).shape)"
   ]
  },
  {
   "cell_type": "code",
   "execution_count": null,
   "metadata": {},
   "outputs": [],
   "source": [
    "print(numpy.mean(data, axis=1))"
   ]
  },
  {
   "cell_type": "code",
   "execution_count": null,
   "metadata": {},
   "outputs": [],
   "source": [
    "import matplotlib.pyplot\n",
    "image  = matplotlib.pyplot.imshow(data)\n",
    "# % matplotlib inline\n",
    "matplotlib.pyplot.show()"
   ]
  },
  {
   "cell_type": "code",
   "execution_count": null,
   "metadata": {},
   "outputs": [],
   "source": [
    "ave_inflammation = numpy.mean(data, axis=0)\n",
    "ave_plot = matplotlib.pyplot.plot(ave_inflammation)\n",
    "matplotlib.pyplot.show()"
   ]
  },
  {
   "cell_type": "code",
   "execution_count": null,
   "metadata": {},
   "outputs": [],
   "source": [
    "max_plot = matplotlib.pyplot.plot(numpy.max(data, axis=0))\n",
    "matplotlib.pyplot.show()"
   ]
  },
  {
   "cell_type": "code",
   "execution_count": null,
   "metadata": {},
   "outputs": [],
   "source": [
    "min_plot = matplotlib.pyplot.plot(numpy.min(data, axis=0))\n",
    "matplotlib.pyplot.show()"
   ]
  },
  {
   "cell_type": "code",
   "execution_count": null,
   "metadata": {},
   "outputs": [],
   "source": [
    "import numpy\n",
    "import matplotlib.pyplot\n",
    "\n",
    "data = numpy.loadtxt(fname='inflammation-01.csv', delimiter=',')\n",
    "datamin = numpy.min(data)\n",
    "datamax = numpy.max(data)\n",
    "\n",
    "fig = matplotlib.pyplot.figure(figsize=(10.0, 3.0))\n",
    "\n",
    "axes1 = fig.add_subplot(1, 3, 1) # add_subplot is a method for a Figure object\n",
    "axes2 = fig.add_subplot(1, 3, 2)\n",
    "axes3 = fig.add_subplot(1, 3, 3)\n",
    "\n",
    "axes1.set_ylabel('average')\n",
    "axes1.set_ylim(datamin, datamax+0.1)\n",
    "axes1.plot(numpy.mean(data, axis=0))\n",
    "\n",
    "axes2.set_ylabel('max')\n",
    "axes2.set_ylim(datamin, datamax+0.1)\n",
    "axes2.plot(numpy.max(data, axis=0))\n",
    "\n",
    "axes3.set_ylabel('min')\n",
    "axes3.set_ylim(datamin, datamax+0.1)\n",
    "axes3.plot(numpy.min(data, axis=0), drawstyle='steps-mid')\n",
    "\n",
    "fig.tight_layout()\n",
    "\n",
    "matplotlib.pyplot.show()"
   ]
  },
  {
   "cell_type": "markdown",
   "metadata": {},
   "source": [
    "## stacking arrays"
   ]
  },
  {
   "cell_type": "code",
   "execution_count": null,
   "metadata": {},
   "outputs": [],
   "source": [
    "import numpy\n",
    "\n",
    "A = numpy.array([[1,2,3], [4,5,6], [7, 8, 9]])\n",
    "print('A = ')\n",
    "print(A)\n",
    "\n",
    "B = numpy.hstack([A, A])\n",
    "print('B = ')\n",
    "print(B)\n",
    "\n",
    "C = numpy.vstack([A, A])\n",
    "print('C = ')\n",
    "print(C)"
   ]
  },
  {
   "cell_type": "markdown",
   "metadata": {},
   "source": [
    "## slicing strings\n",
    "notation `i:j` (think `[i,j[` to exclude the last) with indices starting at 0, like for arrays"
   ]
  },
  {
   "cell_type": "code",
   "execution_count": null,
   "metadata": {},
   "outputs": [],
   "source": [
    "first, second = 'Grace', 'Hopper'\n",
    "third, fourth = second, first\n",
    "print(third, fourth)"
   ]
  },
  {
   "cell_type": "code",
   "execution_count": null,
   "metadata": {},
   "outputs": [],
   "source": [
    "element = 'oxygen'\n",
    "print('first three characters:', element[0:3])\n",
    "print('last three characters:', element[3:6])"
   ]
  },
  {
   "cell_type": "code",
   "execution_count": null,
   "metadata": {},
   "outputs": [],
   "source": [
    "print(element[:4])\n",
    "print(element[4:]); print(element[:])"
   ]
  },
  {
   "cell_type": "code",
   "execution_count": null,
   "metadata": {},
   "outputs": [],
   "source": [
    "element[3:3]"
   ]
  },
  {
   "cell_type": "code",
   "execution_count": null,
   "metadata": {},
   "outputs": [],
   "source": [
    "data[3:3, 4:4]"
   ]
  },
  {
   "cell_type": "code",
   "execution_count": null,
   "metadata": {},
   "outputs": [],
   "source": [
    "data[3:3, :]"
   ]
  },
  {
   "cell_type": "code",
   "execution_count": null,
   "metadata": {},
   "outputs": [],
   "source": [
    "word = 'lead'\n",
    "for char in word:\n",
    "    print(char)"
   ]
  },
  {
   "cell_type": "markdown",
   "metadata": {},
   "source": [
    "## for loop syntax\n",
    "\n",
    "```python\n",
    "for variable in collection:\n",
    "    statement 1 to do something\n",
    "    statement 2 to do another thing\n",
    "    statement 3, indented similarly\n",
    "```"
   ]
  },
  {
   "cell_type": "code",
   "execution_count": null,
   "metadata": {},
   "outputs": [],
   "source": [
    "length = 0\n",
    "for vowel in 'aeiou':\n",
    "    length = length + 1\n",
    "    print('There are', length, 'vowels')"
   ]
  },
  {
   "cell_type": "markdown",
   "metadata": {},
   "source": [
    "important: variables **created inside** the for loop still exist **outside** after the loop is finished"
   ]
  },
  {
   "cell_type": "code",
   "execution_count": null,
   "metadata": {},
   "outputs": [],
   "source": [
    "print('The variable \"vowel\" still exists: equals', vowel)"
   ]
  },
  {
   "cell_type": "code",
   "execution_count": null,
   "metadata": {},
   "outputs": [],
   "source": [
    "print(len('aeiou'))"
   ]
  },
  {
   "cell_type": "code",
   "execution_count": null,
   "metadata": {},
   "outputs": [],
   "source": [
    "for i in range(1, 40):\n",
    "   print(i, end=\" \")"
   ]
  },
  {
   "cell_type": "code",
   "execution_count": null,
   "metadata": {},
   "outputs": [],
   "source": [
    "print(type(range(1,40)))\n",
    "range(3,1000)"
   ]
  },
  {
   "cell_type": "code",
   "execution_count": null,
   "metadata": {},
   "outputs": [],
   "source": [
    "for i in range(3, 15, 4):\n",
    "    print(i)"
   ]
  },
  {
   "cell_type": "code",
   "execution_count": null,
   "metadata": {},
   "outputs": [],
   "source": [
    "print(5 ** 3)"
   ]
  },
  {
   "cell_type": "code",
   "execution_count": null,
   "metadata": {},
   "outputs": [],
   "source": [
    "result = 1\n",
    "for i in range(0, 3):\n",
    "   result = result * 5\n",
    "print(result)"
   ]
  },
  {
   "cell_type": "markdown",
   "metadata": {},
   "source": [
    "### reverse a string"
   ]
  },
  {
   "cell_type": "code",
   "execution_count": null,
   "metadata": {},
   "outputs": [],
   "source": [
    "newstring = ''\n",
    "oldstring = 'Newton'\n",
    "for char in oldstring:\n",
    "   newstring = char + newstring\n",
    "print(newstring)"
   ]
  },
  {
   "cell_type": "markdown",
   "metadata": {},
   "source": [
    "# storing multiple values in a list"
   ]
  },
  {
   "cell_type": "code",
   "execution_count": null,
   "metadata": {},
   "outputs": [],
   "source": [
    "odds = [1,3,    5,      7]\n",
    "print('odds are:', odds)\n",
    "print('first and last:', odds[0], odds[-1])\n",
    "for number in odds:\n",
    "    print(number)\n",
    "    \n",
    "names = ['Newton', 'Darwing', 'Turing'] # typo in Darwin's name\n",
    "print('names is originally:', names)\n",
    "names[1] = 'Darwin' # correct the name\n",
    "print('final value of names:', names)"
   ]
  },
  {
   "cell_type": "code",
   "execution_count": null,
   "metadata": {},
   "outputs": [],
   "source": [
    "name = 'Darwin'\n",
    "print(\"letter indexed 0:\", name[0])\n",
    "name[0] = 'd'"
   ]
  },
  {
   "cell_type": "code",
   "execution_count": null,
   "metadata": {},
   "outputs": [],
   "source": [
    "name = \"darwin\"\n",
    "name"
   ]
  },
  {
   "cell_type": "markdown",
   "metadata": {},
   "source": [
    "## mutable and immutable objects\n",
    "\n",
    "- \"name\" contains the string 'Darwin', and strings are **immutable**.\n",
    "- lists and arrays are **mutable**. Functions that operate on them can change them *in place*"
   ]
  },
  {
   "cell_type": "code",
   "execution_count": null,
   "metadata": {},
   "outputs": [],
   "source": [
    "a = \"Darwin\"\n",
    "b = a\n",
    "print(\"b=\",b)\n",
    "b = \"Turing\" # does not change a, because a has immutable value\n",
    "print(\"now b=\",b,\"\\nand a=\",a)"
   ]
  },
  {
   "cell_type": "code",
   "execution_count": null,
   "metadata": {},
   "outputs": [],
   "source": [
    "a = [10,11]\n",
    "b = a\n",
    "print(\"b[1]=\", b[1]) # changes the value that b binds to, so changes a too\n",
    "b[1] = 22\n",
    "print(\"b=\", b, \"\\nand a=\",a)"
   ]
  },
  {
   "cell_type": "code",
   "execution_count": null,
   "metadata": {},
   "outputs": [],
   "source": [
    "import copy\n",
    "a = [10,11]\n",
    "b = copy.copy(a)\n",
    "print(\"b[1]=\", b[1]) # changes the value that b binds to, so changes a too\n",
    "b[1] = 22\n",
    "print(\"b=\", b, \"\\nand a=\",a)"
   ]
  },
  {
   "cell_type": "markdown",
   "metadata": {},
   "source": [
    "A **list of lists** is not the same as an array"
   ]
  },
  {
   "cell_type": "code",
   "execution_count": null,
   "metadata": {},
   "outputs": [],
   "source": [
    "x = [['pepper', 'zucchini', 'onion'],\n",
    "     ['cabbage', 'lettuce', 'garlic'],\n",
    "     ['apple', 'pear', 'banana']]\n",
    "print(x)\n",
    "print(x[0])\n",
    "print(x[0][0])\n",
    "print([x[0]])"
   ]
  },
  {
   "cell_type": "markdown",
   "metadata": {},
   "source": [
    "**deep copy** versus simple copy"
   ]
  },
  {
   "cell_type": "code",
   "execution_count": null,
   "metadata": {},
   "outputs": [],
   "source": [
    "a = [[10,11],[20,21]]\n",
    "print(a)\n",
    "b = copy.copy(a)\n",
    "b[0][0] = 50\n",
    "print(\"b=\",b,\"and a=\",a)\n",
    "b[0] = [8,9]\n",
    "print(\"b=\",b,\"and a=\",a)\n",
    "b = copy.deepcopy(a)\n",
    "print(\"now b is back to a: \",b)\n",
    "b[0][0] = 8\n",
    "print(\"b=\",b,\"and a=\",a)"
   ]
  },
  {
   "cell_type": "markdown",
   "metadata": {},
   "source": [
    "more on **mutable** versus immutable objects: functions can **change mutable arguments** in place. This is a huge deal!"
   ]
  },
  {
   "cell_type": "code",
   "execution_count": null,
   "metadata": {},
   "outputs": [],
   "source": [
    "def add1_scalar(x):\n",
    "    \"\"\"adds 1 to scalar input\"\"\"\n",
    "    x += 1\n",
    "    print(\"after add1_scalar:\",x)\n",
    "\n",
    "def add1_array(x):\n",
    "    \"\"\"adds 1 to the first element of array input\"\"\"\n",
    "    x[0] += 1\n",
    "    print(\"after add1_array:\",x)\n",
    "\n",
    "a=5; print(a)\n",
    "add1_scalar(a)\n",
    "print(\"and now a =\",a) # a was not modified because it is immutable\n",
    "b=[5]; print(b)\n",
    "add1_array(b)\n",
    "print(\"and now b =\",b) # b was modified in place because it is mutable: array"
   ]
  },
  {
   "cell_type": "code",
   "execution_count": null,
   "metadata": {},
   "outputs": [],
   "source": [
    "add1_scalar?"
   ]
  },
  {
   "cell_type": "markdown",
   "metadata": {},
   "source": [
    "functions can **change mutable arguments** in place:\n",
    "\n",
    "- beware\n",
    "- opportunities to save a lot of memory (and time)"
   ]
  },
  {
   "cell_type": "markdown",
   "metadata": {},
   "source": [
    "## how to modify lists"
   ]
  },
  {
   "cell_type": "code",
   "execution_count": null,
   "metadata": {},
   "outputs": [],
   "source": [
    "print('odds before:', odds)\n",
    "odds.append(11)\n",
    "print('odds after adding a value:', odds)"
   ]
  },
  {
   "cell_type": "markdown",
   "metadata": {},
   "source": [
    "for R users, the following code does not do what you might think:"
   ]
  },
  {
   "cell_type": "code",
   "execution_count": null,
   "metadata": {},
   "outputs": [],
   "source": [
    "odds = [odds, 11]\n",
    "print('odds=',odds)"
   ]
  },
  {
   "cell_type": "code",
   "execution_count": null,
   "metadata": {},
   "outputs": [],
   "source": [
    "odds = [1, 3, 5, 7, 11]\n",
    "del odds[0]\n",
    "print('odds after removing the first element:', odds)\n",
    "odds.reverse()\n",
    "print('odds after reversing:', odds)\n",
    "a = odds.pop()\n",
    "print('odds after popping last element:', odds)\n",
    "print(\"this last element was\",a)"
   ]
  },
  {
   "cell_type": "markdown",
   "metadata": {},
   "source": [
    "### more on lists and strings\n",
    "\n",
    "- splitting a string into a list\n",
    "- substitutions\n"
   ]
  },
  {
   "cell_type": "code",
   "execution_count": null,
   "metadata": {},
   "outputs": [],
   "source": [
    "taxon = \"Drosophila melanogaster\"\n",
    "genus = taxon[0:10]\n",
    "print(\"genus:\", genus)\n",
    "\n",
    "species = taxon[11:]\n",
    "print(\"species:\", species)\n",
    "\n",
    "gslist = taxon.split(' ')\n",
    "print(gslist)\n",
    "print(\"after splitting at each space: genus=\",\n",
    "      gslist[0],\", species=\",gslist[1], sep=\"\")\n"
   ]
  },
  {
   "cell_type": "code",
   "execution_count": null,
   "metadata": {},
   "outputs": [],
   "source": [
    "print(taxon)\n",
    "print(taxon.replace(' ','_'))\n",
    "print(taxon) # has not changed"
   ]
  },
  {
   "cell_type": "code",
   "execution_count": null,
   "metadata": {},
   "outputs": [],
   "source": [
    "mystring = \"\\t hello world\\n \\n\"\n",
    "mystring"
   ]
  },
  {
   "cell_type": "code",
   "execution_count": null,
   "metadata": {},
   "outputs": [],
   "source": [
    "print('here is mystring: \"' + mystring + '\"')\n",
    "print('here is mystring.strip(): \"' + mystring.strip() + '\"')\n",
    "print('here is mystring.rstrip(): \"' + mystring.rstrip() + '\"') # tRailing only\n",
    "\"     abc\\n \\n\\t \".strip()"
   ]
  },
  {
   "cell_type": "code",
   "execution_count": null,
   "metadata": {},
   "outputs": [],
   "source": [
    "chromosomes = [\"X\", \"Y\", \"2\", \"3\", \"4\"]\n",
    "autosomes = chromosomes[2:5]\n",
    "print(\"autosomes:\", autosomes)\n",
    "\n",
    "last = chromosomes[-1]\n",
    "print(\"last:\", last)\n",
    "last = 21\n",
    "print(\"last:\", last)\n",
    "chromosomes # \"last\" was a scalar: immutable, so modifying it does not modify \"chromosomes\""
   ]
  },
  {
   "cell_type": "code",
   "execution_count": null,
   "metadata": {},
   "outputs": [],
   "source": [
    "a = \"Observation date: 02-Feb-2013\"\n",
    "b = [[\"fluorine\", \"F\"], [\"chlorine\", \"Cl\"], [\"bromine\", \"Br\"], [\"iodine\", \"I\"], [\"astatine\", \"At\"]]\n",
    "print(a[-4:])\n",
    "print(b[-2:])"
   ]
  },
  {
   "cell_type": "code",
   "execution_count": null,
   "metadata": {},
   "outputs": [],
   "source": [
    "months = [\"jan\", \"feb\", \"mar\", \"apr\", \"may\", \"jun\", \"jul\", \"aug\", \"sep\", \"oct\", \"nov\", \"dec\"]\n",
    "print(\"10:12 gives:\", months[10:12])\n",
    "print(\"10:len(months) gives:\", months[10:len(months)])\n",
    "print(\"10: gives\", months[10:])"
   ]
  },
  {
   "cell_type": "markdown",
   "metadata": {},
   "source": [
    "## tuples\n",
    "\n",
    "tuples are immutable , unlike lists. useful for\n",
    "- array sizes: `(60,40)` earlier\n",
    "- types of arguments to functions: like (float64, int64) for instance\n",
    "- functions can return multiple objects in a tuple\n",
    "- a tuple with a single value, say 6.5, is noted like this: `(6.5,)`\n",
    "- they come in very handy for exchanges:"
   ]
  },
  {
   "cell_type": "code",
   "execution_count": null,
   "metadata": {},
   "outputs": [],
   "source": [
    "left = 'L'\n",
    "right = 'R'\n",
    "\n",
    "temp = left\n",
    "left = right\n",
    "right = temp\n",
    "print(\"left =\",left,\"and right =\",right)"
   ]
  },
  {
   "cell_type": "code",
   "execution_count": null,
   "metadata": {},
   "outputs": [],
   "source": [
    "left = 'L'\n",
    "right = 'R'\n",
    "\n",
    "(left, right) = (right, left)\n",
    "print(\"left =\",left,\"and right =\",right)"
   ]
  },
  {
   "cell_type": "code",
   "execution_count": null,
   "metadata": {},
   "outputs": [],
   "source": [
    "left, right = right, left\n",
    "print(\"now left =\",left,\"and right =\",right)"
   ]
  },
  {
   "cell_type": "markdown",
   "metadata": {},
   "source": [
    "## adding and multiplying lists\n",
    "and remember that lists are mutable"
   ]
  },
  {
   "cell_type": "code",
   "execution_count": null,
   "metadata": {},
   "outputs": [],
   "source": [
    "odds = [1, 3, 5, 7]\n",
    "primes = odds\n",
    "primes += [2]\n",
    "print('primes:', primes)\n",
    "print('odds:', odds)"
   ]
  },
  {
   "cell_type": "markdown",
   "metadata": {},
   "source": [
    "use `list` to copy (but not deep-copy):"
   ]
  },
  {
   "cell_type": "code",
   "execution_count": null,
   "metadata": {},
   "outputs": [],
   "source": [
    "odds = [1, 3, 5, 7]\n",
    "primes = list(odds)\n",
    "primes += [11]\n",
    "print('primes:', primes)\n",
    "print('odds:', odds)\n",
    "\n",
    "a = [[10,11],[20,21]]\n",
    "b = list(a)\n",
    "b[0][0] = 50\n",
    "print(\"b=\",b,\"\\na=\",a)"
   ]
  },
  {
   "cell_type": "code",
   "execution_count": null,
   "metadata": {},
   "outputs": [],
   "source": [
    "odds += [9,11]\n",
    "print(\"add = concatenate for lists: odds =\", odds)"
   ]
  },
  {
   "cell_type": "code",
   "execution_count": null,
   "metadata": {},
   "outputs": [],
   "source": [
    "counts = [2, 4, 6, 8, 10]\n",
    "repeats = counts * 2\n",
    "print(\"multiply = repeat for lists:\\n\", repeats)"
   ]
  },
  {
   "cell_type": "markdown",
   "metadata": {},
   "source": [
    "operator **overloading**: the same function does different things depending on its arguments.\n",
    "\n",
    "here: `+` and `*` can do different things"
   ]
  },
  {
   "cell_type": "code",
   "execution_count": null,
   "metadata": {},
   "outputs": [],
   "source": [
    "print(sorted(repeats))    # all integers\n",
    "print(sorted([10,2.5,4])) # all numerical\n",
    "print(sorted([\"jan\",\"feb\",\"mar\",\"dec\"]))  # all strings\n",
    "print(sorted([\"jan\",20,1,\"dec\"]))  # error"
   ]
  },
  {
   "cell_type": "markdown",
   "metadata": {},
   "source": [
    "## list comprehension\n",
    "general syntax: `[xxx for y in z]`, where `xxx` is typically some function of `y`.  \n",
    "shortcut that executes a `for` loop on one line. here is one example:"
   ]
  },
  {
   "cell_type": "code",
   "execution_count": null,
   "metadata": {},
   "outputs": [],
   "source": [
    "[num+5 for num in counts]"
   ]
  }
 ],
 "metadata": {
  "anaconda-cloud": {},
  "celltoolbar": "Raw Cell Format",
  "kernelspec": {
   "display_name": "Python [conda root]",
   "language": "python",
   "name": "conda-root-py"
  },
  "language_info": {
   "codemirror_mode": {
    "name": "ipython",
    "version": 3
   },
   "file_extension": ".py",
   "mimetype": "text/x-python",
   "name": "python",
   "nbconvert_exporter": "python",
   "pygments_lexer": "ipython3",
   "version": "3.5.2"
  }
 },
 "nbformat": 4,
 "nbformat_minor": 1
}
