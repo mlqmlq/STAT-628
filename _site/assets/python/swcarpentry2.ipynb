{
 "cells": [
  {
   "cell_type": "markdown",
   "metadata": {},
   "source": [
    "## analyzing data from multiple files\n",
    "[software carpentry](http://swcarpentry.github.io/python-novice-inflammation/04-files/)"
   ]
  },
  {
   "cell_type": "code",
   "execution_count": null,
   "metadata": {
    "collapsed": true
   },
   "outputs": [],
   "source": [
    "import glob\n",
    "glob.glob(\"inflammation-??.csv\")"
   ]
  },
  {
   "cell_type": "code",
   "execution_count": null,
   "metadata": {
    "collapsed": true
   },
   "outputs": [],
   "source": [
    "filenames = glob.glob('inflammation*.csv')\n",
    "for f in filenames:\n",
    "    data = numpy.loadtxt(fname=f, delimiter=',')\n",
    "    print(\"file\",f[13:15],\n",
    "          \", # rows and columns: \", data.shape, sep=\"\")\n"
   ]
  },
  {
   "cell_type": "code",
   "execution_count": null,
   "metadata": {
    "collapsed": true
   },
   "outputs": [],
   "source": [
    "import numpy\n",
    "import matplotlib.pyplot\n",
    "\n",
    "filenames = sorted(glob.glob('inflammation*.csv'))\n",
    "filenames = filenames[0:3]\n",
    "for f in filenames:\n",
    "    print(f)\n",
    "\n",
    "    data = numpy.loadtxt(fname=f, delimiter=',')\n",
    "\n",
    "    fig = matplotlib.pyplot.figure(figsize=(10.0, 3.0))\n",
    "\n",
    "    axes1 = fig.add_subplot(1, 3, 1)\n",
    "    axes2 = fig.add_subplot(1, 3, 2)\n",
    "    axes3 = fig.add_subplot(1, 3, 3)\n",
    "\n",
    "    axes1.set_ylabel('average')\n",
    "    axes1.plot(numpy.mean(data, axis=0))\n",
    "\n",
    "    axes2.set_ylabel('max')\n",
    "    axes2.plot(numpy.max(data, axis=0))\n",
    "\n",
    "    axes3.set_ylabel('min')\n",
    "    axes3.plot(numpy.min(data, axis=0))\n",
    "\n",
    "    fig.tight_layout()\n",
    "    matplotlib.pyplot.show()"
   ]
  },
  {
   "cell_type": "markdown",
   "metadata": {},
   "source": [
    "# if / else statements\n",
    "\n",
    "syntax similar to that in loops, need `:` after the conditions, and indentation is critical to tell where each block ends.  \n",
    "`elif` statements optional. `else` would be the final statement, optional too.  \n",
    "to combine conditions: `and`, `or`, `not`."
   ]
  },
  {
   "cell_type": "code",
   "execution_count": null,
   "metadata": {
    "collapsed": true
   },
   "outputs": [],
   "source": [
    "num = -3\n",
    "print(\"num is\",num)\n",
    "\n",
    "print(\"first try: \")\n",
    "if num > 0:\n",
    "    print(num, \"is positive\")\n",
    "\n",
    "print(\"second try: \", end=\"\")\n",
    "if num > 0:\n",
    "    print(num, \"is positive\")\n",
    "else:\n",
    "    print(num, \"is 0 or negative\")\n",
    "\n",
    "print(\"third try: \", end=\"\")\n",
    "if num > 0:\n",
    "    print(num, \"is positive\")\n",
    "elif num == 0:\n",
    "    print(num, \"is zero\")\n",
    "else:\n",
    "    print(num, \"is negative\")"
   ]
  },
  {
   "cell_type": "code",
   "execution_count": null,
   "metadata": {
    "collapsed": true
   },
   "outputs": [],
   "source": [
    "f = 'inflammation-01.csv'\n",
    "data = numpy.loadtxt(fname=f, delimiter=',')\n",
    "print(\"file\",f,\": \", sep=\"\", end=\"\")\n",
    "if numpy.max(data, axis=0)[0] == 0 and numpy.max(data, axis=0)[20] == 20:\n",
    "    print('Suspicious looking maxima!')\n",
    "elif numpy.sum(numpy.min(data, axis=0)) == 0:\n",
    "    print('Minima add up to zero!')\n",
    "else:\n",
    "    print('Seems OK!')"
   ]
  },
  {
   "cell_type": "code",
   "execution_count": null,
   "metadata": {
    "collapsed": true
   },
   "outputs": [],
   "source": [
    "a = None # try again with a = \"abc\", \"\", [1,2,3], [], True, False, 0, 1, 18\n",
    "if a:\n",
    "    print(\"a was true\")\n",
    "else:\n",
    "    print(\"a was false\")"
   ]
  },
  {
   "cell_type": "markdown",
   "metadata": {},
   "source": [
    "useful tools for strings: `in`, `startswith`"
   ]
  },
  {
   "cell_type": "code",
   "execution_count": null,
   "metadata": {
    "collapsed": true
   },
   "outputs": [],
   "source": [
    "a = \"hello world\"\n",
    "print(a.startswith(\"h\"))\n",
    "print(a.startswith(\"he\"))\n",
    "print(\"h\" in a)\n",
    "print(\"low\" in a)\n",
    "print(\"lo w\" in a)"
   ]
  },
  {
   "cell_type": "markdown",
   "metadata": {},
   "source": [
    "# regular expressions\n",
    "\n",
    "We have already seen easy ways to search/replace things in strings, with the string methods `.split`, `.replace`, `.strip`. See `dir(\"\")` for string methods. To get access to manipulations using regular expressions:\n",
    "\n",
    "- `re` library\n",
    "- use `r''` to write the regular expression pattern. for `raw` strings: to read a `\\n` as slash and an `n`, not as a newline character.\n",
    "- multipliers are greedy by default: `*`, `+`, `?`. Add `?` to make them non-greedy\n",
    "- `re.search`, `re.findall`,  `re.sub`\n",
    "- info from match objects: `.group`, `.start`,  `.end`"
   ]
  },
  {
   "cell_type": "code",
   "execution_count": null,
   "metadata": {
    "collapsed": true
   },
   "outputs": [],
   "source": [
    "print(type(\"\"))\n",
    "print(dir(\"\"))\n",
    "print(\"aha\".find(\"a\"))\n",
    "print(\"hohoho\".find(\"oh\"))\n",
    "mylist = [\"AA\",\"BB\",\"CC\"]\n",
    "\"coolsep\".join(mylist)"
   ]
  },
  {
   "cell_type": "code",
   "execution_count": null,
   "metadata": {
    "collapsed": true
   },
   "outputs": [],
   "source": [
    "import re\n",
    "filenames = glob.glob('*.csv')\n",
    "print(filenames)"
   ]
  },
  {
   "cell_type": "code",
   "execution_count": null,
   "metadata": {
    "collapsed": true
   },
   "outputs": [],
   "source": [
    "mo = re.search(r'i.*n',filenames[0]) # multiplier * is greedy\n",
    "print(mo)  # match object, stores much info. search: first instance only.\n",
    "print(mo.group()) # what matched\n",
    "print(mo.start()) # where match starts: indexing start at 0\n",
    "print(mo.end())   # where it ends: index *after*!"
   ]
  },
  {
   "cell_type": "code",
   "execution_count": null,
   "metadata": {
    "collapsed": true
   },
   "outputs": [],
   "source": [
    "mo = re.search(r'i.*?n',filenames[0])\n",
    "print(mo)\n",
    "print(mo.group())\n",
    "print(mo.start())\n",
    "print(mo.end())"
   ]
  },
  {
   "cell_type": "markdown",
   "metadata": {},
   "source": [
    "When there is no match, the matched object is None and interpreted as False in boolean context:"
   ]
  },
  {
   "cell_type": "code",
   "execution_count": null,
   "metadata": {
    "collapsed": true
   },
   "outputs": [],
   "source": [
    "sequences = [\"ATCGGGGATCGAAGTTGAG\", \"ACGGCCAGUGUACN\"]\n",
    "for dna in sequences:\n",
    "    mo = re.search(r'[^ATCG]', dna)\n",
    "    if mo:\n",
    "        print(\"non-ACGT found in sequence\",dna,\": found\", mo.group())"
   ]
  },
  {
   "cell_type": "markdown",
   "metadata": {},
   "source": [
    "by the way: compare with the less efficient code:"
   ]
  },
  {
   "cell_type": "code",
   "execution_count": null,
   "metadata": {
    "collapsed": true
   },
   "outputs": [],
   "source": [
    "for dna in sequences:\n",
    "    if re.search(r'[^ATCG]', dna):\n",
    "        mo = re.search(r'[^ATCG]', dna)\n",
    "        print(\"non-ACGT found in sequence\",dna,\": found\", mo.group())"
   ]
  },
  {
   "cell_type": "markdown",
   "metadata": {},
   "source": [
    "Finding all instances:"
   ]
  },
  {
   "cell_type": "code",
   "execution_count": null,
   "metadata": {
    "collapsed": true
   },
   "outputs": [],
   "source": [
    "print(re.findall(r'i.*n',filenames[0])) # greedy. non-overlapping matches\n",
    "mo = re.findall(r'i.*?n',filenames[0])   # non-greedy\n",
    "print(mo)\n",
    "mo"
   ]
  },
  {
   "cell_type": "code",
   "execution_count": null,
   "metadata": {
    "collapsed": true
   },
   "outputs": [],
   "source": [
    "for f in filenames:\n",
    "    if not re.search(r'^i', f): # if no match: search object interpreted as False\n",
    "        print(\"file name\",f,\"does not start with i\")"
   ]
  },
  {
   "cell_type": "markdown",
   "metadata": {},
   "source": [
    "### search and replace: re.sub\n",
    "\n",
    "- capture with parentheses in the regular expression\n",
    "- recall captured elements with `\\1`, `\\2` etc. in a regular expression, to use them in a replacement for example"
   ]
  },
  {
   "cell_type": "code",
   "execution_count": null,
   "metadata": {
    "collapsed": true
   },
   "outputs": [],
   "source": [
    "re.sub(r'^(\\w)\\w+-(\\d+)\\.csv', r'\\1\\2.csv', filenames[0])"
   ]
  },
  {
   "cell_type": "code",
   "execution_count": null,
   "metadata": {
    "collapsed": true
   },
   "outputs": [],
   "source": [
    "for i in range(0,len(filenames)):\n",
    "    filenames[i] = re.sub(r'^(\\w)\\w+-(\\d+)\\.csv', r'\\1\\2.csv', filenames[i])\n",
    "print(filenames)"
   ]
  },
  {
   "cell_type": "code",
   "execution_count": null,
   "metadata": {
    "collapsed": true
   },
   "outputs": [],
   "source": [
    "taxa = [\"Drosophila melanogaster\", \"Homo sapiens\"]\n",
    "for taxon in taxa:\n",
    "    mo = re.search(r'^([^\\s]+) ([^\\s]+)$', taxon)\n",
    "    if mo:\n",
    "        genus = mo.group(1)\n",
    "        species = mo.group(2)\n",
    "        print(\"genus=\" + genus + \", species=\" + species)\n",
    "\n",
    "print(taxon)\n",
    "print(mo)\n",
    "print(mo.start(1))\n",
    "print(mo.start(2))"
   ]
  },
  {
   "cell_type": "markdown",
   "metadata": {},
   "source": [
    "next: abbreviate genus name to its first letter, and replace space by underscore:"
   ]
  },
  {
   "cell_type": "code",
   "execution_count": null,
   "metadata": {
    "collapsed": true
   },
   "outputs": [],
   "source": [
    "taxa_abbrev = []\n",
    "for taxon in taxa:\n",
    "    taxa_abbrev.append(\n",
    "        re.sub(r'^(\\S).* ([^\\s]+)$', r'\\1_\\2', taxon)\n",
    "    )\n",
    "print(taxa_abbrev)"
   ]
  },
  {
   "cell_type": "markdown",
   "metadata": {},
   "source": [
    "### split according to a regular expression\n",
    "\n",
    "- removes the matched substrings\n",
    "- returns an array"
   ]
  },
  {
   "cell_type": "code",
   "execution_count": null,
   "metadata": {
    "collapsed": true
   },
   "outputs": [],
   "source": [
    "coolstring = \"Homo sapiens is pretty super\"\n",
    "re.split(r's.p', coolstring)"
   ]
  },
  {
   "cell_type": "markdown",
   "metadata": {},
   "source": [
    "# writing functions\n",
    "\n",
    "syntax similar to `if/else` statements and `for` loops: colon to end the function name/argument names, and indentation of the function body.\n",
    "\n",
    "```python\n",
    "def function_name(arguments):\n",
    "    \"\"\"docstring here: to explain what the function does\"\"\"\n",
    "    command indented\n",
    "    indented command\n",
    "    return value\n",
    "```"
   ]
  },
  {
   "cell_type": "code",
   "execution_count": null,
   "metadata": {
    "collapsed": true
   },
   "outputs": [],
   "source": [
    "def startswithi(str):\n",
    "    \"\"\"returns True if the input string starts with 'i'.\n",
    "    Let me continue this very long explanation\n",
    "    and also give an example:\n",
    "    startswithi(\"hohoho\")\n",
    "    note 2 things:\n",
    "    - the double and single quotes inside my tripe double-quoted docstring\n",
    "    - in my text here the indentation adds 4 spaces on each line.\n",
    "      Those are ignored because it's a triple set of quotes.\"\"\"\n",
    "    return(bool(re.search(r'^i', str)))"
   ]
  },
  {
   "cell_type": "code",
   "execution_count": null,
   "metadata": {
    "collapsed": true
   },
   "outputs": [],
   "source": [
    "print(startswithi(\"ihihi\"))\n",
    "print(startswithi(\"hohoho\"))"
   ]
  },
  {
   "cell_type": "code",
   "execution_count": null,
   "metadata": {
    "collapsed": true
   },
   "outputs": [],
   "source": [
    "?startswithi"
   ]
  },
  {
   "cell_type": "code",
   "execution_count": null,
   "metadata": {
    "collapsed": true
   },
   "outputs": [],
   "source": [
    "def fahr_to_kelvin(temp):\n",
    "    return ((temp - 32) * (5/9)) + 273.15\n",
    "\n",
    "print('freezing point of water:', fahr_to_kelvin(32))\n",
    "print('boiling point of water:', fahr_to_kelvin(212))\n",
    "\n",
    "def kelvin_to_celsius(temp_k):\n",
    "    return temp_k - 273.15\n",
    "\n",
    "print('absolute zero in Celsius:', kelvin_to_celsius(0.0))\n",
    "\n",
    "def fahr_to_celsius(temp_f):\n",
    "    temp_k = fahr_to_kelvin(temp_f)\n",
    "    result = kelvin_to_celsius(temp_k)\n",
    "    return result\n",
    "\n",
    "print('freezing point of water in Celsius:', fahr_to_celsius(32.0))"
   ]
  },
  {
   "cell_type": "markdown",
   "metadata": {},
   "source": [
    "### key principle: break code down into small parts\n",
    "\n",
    "- write functions\n",
    "- if you do some \"copy-paste\" of your code: you need to write a function\n",
    "- functions make your code easier to debug, easier to read\n",
    "- use meaningful names for functions and for variables"
   ]
  },
  {
   "cell_type": "code",
   "execution_count": null,
   "metadata": {
    "collapsed": true
   },
   "outputs": [],
   "source": [
    "import numpy\n",
    "import glob\n",
    "def analyze(filename):\n",
    "\n",
    "    data = numpy.loadtxt(fname=filename, delimiter=',')\n",
    "\n",
    "    fig = matplotlib.pyplot.figure(figsize=(10.0, 3.0))\n",
    "\n",
    "    axes1 = fig.add_subplot(1, 3, 1)\n",
    "    axes2 = fig.add_subplot(1, 3, 2)\n",
    "    axes3 = fig.add_subplot(1, 3, 3)\n",
    "\n",
    "    axes1.set_ylabel('average')\n",
    "    axes1.plot(numpy.mean(data, axis=0))\n",
    "\n",
    "    axes2.set_ylabel('max')\n",
    "    axes2.plot(numpy.max(data, axis=0))\n",
    "\n",
    "    axes3.set_ylabel('min')\n",
    "    axes3.plot(numpy.min(data, axis=0))\n",
    "\n",
    "    fig.tight_layout()\n",
    "    matplotlib.pyplot.show()\n",
    "    \n",
    "def detect_problems(filename):\n",
    "\n",
    "    data = numpy.loadtxt(fname=filename, delimiter=',')\n",
    "\n",
    "    if (numpy.max(data, axis=0)[0] == 0 and \n",
    "        numpy.max(data, axis=0)[20] == 20):\n",
    "        print('Suspicious looking maxima!')\n",
    "    elif numpy.sum(numpy.min(data, axis=0)) == 0:\n",
    "        print('Minima add up to zero!')\n",
    "    else:\n",
    "        print('Seems OK!')\n",
    "\n",
    "filenames = glob.glob('inflammation*.csv')\n",
    "for f in filenames[:3]:\n",
    "    print(f)\n",
    "    analyze(f)\n",
    "    detect_problems(f)"
   ]
  },
  {
   "cell_type": "markdown",
   "metadata": {},
   "source": [
    "### function arguments: can be named, can have default values"
   ]
  },
  {
   "cell_type": "code",
   "execution_count": null,
   "metadata": {
    "collapsed": true
   },
   "outputs": [],
   "source": [
    "numpy.loadtxt('inflammation-01.csv', delimiter=',')"
   ]
  },
  {
   "cell_type": "code",
   "execution_count": null,
   "metadata": {
    "collapsed": true
   },
   "outputs": [],
   "source": [
    "numpy.loadtxt('inflammation-01.csv', ',')"
   ]
  },
  {
   "cell_type": "code",
   "execution_count": null,
   "metadata": {
    "collapsed": true
   },
   "outputs": [],
   "source": [
    "help(numpy.loadtxt)"
   ]
  },
  {
   "cell_type": "markdown",
   "metadata": {},
   "source": [
    "## exercise: binomial coefficients\n",
    "\n",
    "Calculating binomial coefficients is not easy numerically. \n",
    "The number of ways to choose k elements among n is \n",
    "\n",
    "`choose(n,k) = n! / (k! (n-k)!)`\n",
    "\n",
    "where factorial n: `n! = 1*2*...*n` becomes very big very fast.\n",
    "But many terms cancel each other in `choose(n,k)`, and it is a lot easier numerically to calculate the log of factorial numbers: `log(n!)=log(1)+ ... + log(n)`.\n",
    "\n",
    "1. Write a function \"logfactorial\" that calculates the `log(n!)` for any integer `n>0`.\n",
    "2. Add a *docstring*\n",
    "3. Add *checks* on the input `n`\n",
    "4. Add *tests* as examples inside the docstring.\n",
    "  For the tests to be used, add a section using the **doctest** module.\n",
    "5. Add an *optional argument* `k` to calculate `log(n!/k!)=log((k+1)*...*n)`, with default `k=0`.\n",
    "Add an associated test.\n",
    "6. Write a function \"choose\" to calculate the log of the binomial `log(choose(n,k))` for any integers `n>=0` and `0 <= k <= n`. Start with the docstring and with a test.\n",
    "7. Add an optional argument to this `choose` function, to return the binomial coefficient itself or its log. Make the function return the binomial coefficient by default, not its log."
   ]
  },
  {
   "cell_type": "code",
   "execution_count": null,
   "metadata": {
    "collapsed": true
   },
   "outputs": [],
   "source": [
    "import math\n",
    "def logfactorial(n):\n",
    "    \"\"\"calculate the log of factorial n: log(1) + ... + log(n).\n",
    "    Examples:\n",
    "\n",
    "    >>> round(math.exp(logfactorial(5)),5)\n",
    "    120.0\n",
    "    \"\"\"\n",
    "    assert type(n)==int, \"argument to logfactorial should be an integer\"\n",
    "    res = 0\n",
    "    for i in range(0,n):\n",
    "        res += math.log(i+1)\n",
    "    return res"
   ]
  },
  {
   "cell_type": "code",
   "execution_count": null,
   "metadata": {
    "collapsed": true
   },
   "outputs": [],
   "source": [
    "help(logfactorial)\n",
    "?logfactorial"
   ]
  },
  {
   "cell_type": "markdown",
   "metadata": {},
   "source": [
    "Save the function in a file `binomial.py`.  \n",
    "Add this at the beginning of the file:\n",
    "\n",
    "`#!/usr/bin/env python`\n",
    "\n",
    "and add this at the end:\n",
    "\n",
    "```python\n",
    "if __name__ == '__main__':\n",
    "    import doctest\n",
    "    doctest.testmod()\n",
    "```\n",
    "\n",
    "and change the permission to let you execute the file. \n",
    "Then you can run the script like this:\n",
    "\n",
    "`./binomial.py`\n",
    "\n",
    "(equivalent to `python binomial.py`).\n",
    "Or you can import the functions in your file as a module,\n",
    "inside an python session:\n",
    "\n",
    "`import binomial`"
   ]
  }
 ],
 "metadata": {
  "anaconda-cloud": {},
  "celltoolbar": "Raw Cell Format",
  "kernelspec": {
   "display_name": "Python [conda root]",
   "language": "python",
   "name": "conda-root-py"
  },
  "language_info": {
   "codemirror_mode": {
    "name": "ipython",
    "version": 3
   },
   "file_extension": ".py",
   "mimetype": "text/x-python",
   "name": "python",
   "nbconvert_exporter": "python",
   "pygments_lexer": "ipython3",
   "version": "3.5.2"
  }
 },
 "nbformat": 4,
 "nbformat_minor": 1
}
