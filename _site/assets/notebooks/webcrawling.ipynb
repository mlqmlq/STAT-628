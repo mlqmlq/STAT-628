{
 "cells": [
  {
   "cell_type": "markdown",
   "metadata": {},
   "source": [
    "## Webscrawling\n",
    "\n",
    "- [BeautifulSoup](https://www.crummy.com/software/BeautifulSoup/bs4/doc/)\n",
    "\n",
    "In the ipython you can use\n",
    "\n",
    "```ipython\n",
    "!pip install beautifulsoup4\n",
    "```"
   ]
  },
  {
   "cell_type": "code",
   "execution_count": 1,
   "metadata": {},
   "outputs": [],
   "source": [
    "import json\n",
    "import requests\n",
    "from bs4 import BeautifulSoup"
   ]
  },
  {
   "cell_type": "markdown",
   "metadata": {},
   "source": [
    "## Simple html\n",
    "\n",
    "Here is one example of html file, how to extract these item? Coffee, Tea, Coke\n",
    "\n",
    "```html\n",
    "<html>\n",
    "    <body>\n",
    "        <h1>Welcome to My Website</h1>\n",
    "        <ul>\n",
    "            <li>Coffee</li>\n",
    "            <li>Tea</li>\n",
    "            <li>Coke</li>\n",
    "        </ul>\n",
    "    </body>\n",
    "</html>\n",
    "```\n",
    "\n",
    "Imagine we want to get the items in the list. The ul tag indicates an unordered list. We’ll then want to get each list item (list items are in li tags). Specifically, we’ll want to extract the text inside each list item. To do this, we’ll use the following code, where `example` is the HTML of the page.\n",
    "\n",
    "\n",
    "\n",
    "```python\n",
    "soup = BeautifulSoup(example, 'html.parser')\n",
    "items = soup.find(\"ul\").find_all(\"li\")\n",
    "```\n",
    "\n",
    "You’ll notice that items is a list of three items, since there are three list items in the unordered list. You’ll also see that items[0].text will give you the text of the first list item!"
   ]
  },
  {
   "cell_type": "code",
   "execution_count": 28,
   "metadata": {},
   "outputs": [],
   "source": [
    "example = \"\"\"\n",
    "<html>\n",
    "    <body>\n",
    "        <h1>Welcome to My Website</h1>\n",
    "        <ul>\n",
    "            <li>Coffee</li>\n",
    "            <li test = 'heheda'>Tea</li>\n",
    "            <li favorate = 'hehe'>\n",
    "                <span style=\"color:blue\">Coke</span>\n",
    "            </li>\n",
    "        </ul>\n",
    "    </body>\n",
    "</html>\n",
    "\"\"\"\n",
    "\n",
    "soup = BeautifulSoup(example, 'html.parser')\n",
    "items = soup.find(\"ul\").find_all(\"li\")"
   ]
  },
  {
   "cell_type": "code",
   "execution_count": 29,
   "metadata": {},
   "outputs": [
    {
     "data": {
      "text/plain": [
       "'\\nCoke\\n'"
      ]
     },
     "execution_count": 29,
     "metadata": {},
     "output_type": "execute_result"
    }
   ],
   "source": [
    "str(items[2].text)"
   ]
  },
  {
   "cell_type": "code",
   "execution_count": 30,
   "metadata": {},
   "outputs": [
    {
     "data": {
      "text/plain": [
       "'Coke'"
      ]
     },
     "execution_count": 30,
     "metadata": {},
     "output_type": "execute_result"
    }
   ],
   "source": [
    "items[2].text.strip('\\n')"
   ]
  },
  {
   "cell_type": "code",
   "execution_count": 31,
   "metadata": {},
   "outputs": [],
   "source": [
    "it = []\n",
    "for item in items:\n",
    "    it.append(item.text.strip('\\n'))"
   ]
  },
  {
   "cell_type": "code",
   "execution_count": 32,
   "metadata": {},
   "outputs": [
    {
     "data": {
      "text/plain": [
       "['Coffee', 'Tea', 'Coke']"
      ]
     },
     "execution_count": 32,
     "metadata": {},
     "output_type": "execute_result"
    }
   ],
   "source": [
    "it"
   ]
  },
  {
   "cell_type": "markdown",
   "metadata": {},
   "source": [
    "## Course website scrapping\n",
    "\n",
    "| Time         | Food                                   |   Calorie |\n",
    "| :----------- | :------------------------------------- | --------: |\n",
    "| breakfast    | egg, milk, cereal, avocado             |       600 |\n",
    "| lunch        | chicken breast, brown rice, lettuce    |       700 |\n",
    "| dinner       | steak, sweet potato, broccoli          |       800 |\n",
    "\n",
    "\n",
    "The homepage [https://mlqmlq.github.io/STAT628/pages/d8.html](https://mlqmlq.github.io/STAT628/pages/d8.html) has a table which shows above, how do we get all the food and calorie from this table?\n",
    "\n",
    "The following are the source code for this table. Which can use google chrom `Inspect` or `View Page Source` to check\n",
    "\n",
    "```html\n",
    "<table rules=\"groups\">\n",
    "  <thead>\n",
    "    <tr>\n",
    "      <th style=\"text-align: left\">Time</th>\n",
    "      <th style=\"text-align: left\">Food</th>\n",
    "      <th style=\"text-align: right\">Calorie</th>\n",
    "    </tr>\n",
    "  </thead>\n",
    "  <tbody>\n",
    "    <tr>\n",
    "      <td style=\"text-align: left\">breakfast</td>\n",
    "      <td style=\"text-align: left\">egg, milk, cereal, avocado</td>\n",
    "      <td style=\"text-align: right\">600</td>\n",
    "    </tr>\n",
    "    <tr>\n",
    "      <td style=\"text-align: left\">lunch</td>\n",
    "      <td style=\"text-align: left\">chicken breast, brown rice, lettuce</td>\n",
    "      <td style=\"text-align: right\">700</td>\n",
    "    </tr>\n",
    "    <tr>\n",
    "      <td style=\"text-align: left\">dinner</td>\n",
    "      <td style=\"text-align: left\">steak, sweet potato, broccoli</td>\n",
    "      <td style=\"text-align: right\">800</td>\n",
    "    </tr>\n",
    "  </tbody>\n",
    "  <tbody>\n",
    "    <tr>\n",
    "      <td style=\"text-align: left\"> </td>\n",
    "      <td style=\"text-align: left\"> </td>\n",
    "      <td style=\"text-align: right\"> </td>\n",
    "    </tr>\n",
    "  </tbody>\n",
    "</table>\n",
    "```\n",
    "\n",
    "We need to use `request` to ask python to look through the webpage, and `BeautifulSoup` to parse the html text for us.\n",
    "\n",
    "Sometimes we may see [404 page](http://mlqmlq.github.io/stat628/pages/notes0309.html), we can use `*.status_code` to check, here are the list of [status codes](https://en.wikipedia.org/wiki/List_of_HTTP_status_codes)"
   ]
  },
  {
   "cell_type": "code",
   "execution_count": 33,
   "metadata": {},
   "outputs": [],
   "source": [
    "url = \"https://mlqmlq.github.io/STAT628/pages/d8.html\"\n",
    "req_page = requests.get(url)"
   ]
  },
  {
   "cell_type": "code",
   "execution_count": 34,
   "metadata": {},
   "outputs": [
    {
     "data": {
      "text/plain": [
       "200"
      ]
     },
     "execution_count": 34,
     "metadata": {},
     "output_type": "execute_result"
    }
   ],
   "source": [
    "req_page.status_code ## Success"
   ]
  },
  {
   "cell_type": "code",
   "execution_count": 35,
   "metadata": {
    "collapsed": true
   },
   "outputs": [
    {
     "data": {
      "text/plain": [
       "b'\\n<!DOCTYPE html>\\n<html lang=\"en\">\\n  <head>\\n    <meta charset=\"utf-8\">\\n    <title>Discussion 8</title>\\n    <meta name=\"author\" content=\"Linquan Ma\">\\n\\n    <!-- Enable responsive viewport -->\\n    <meta name=\"viewport\" content=\"width=device-width, initial-scale=1.0\">\\n\\n    <!-- Le HTML5 shim, for IE6-8 support of HTML elements -->\\n    <!--[if lt IE 9]>\\n      <script src=\"http://html5shim.googlecode.com/svn/trunk/html5.js\"></script>\\n    <![endif]-->\\n\\n    <!-- Le styles -->\\n    <link href=\"http://mlqmlq.github.io/STAT628/assets/themes/twitter/bootstrap/css/bootstrap.2.2.2.min.css\" rel=\"stylesheet\">\\n    <link href=\"http://mlqmlq.github.io/STAT628/assets/themes/twitter/css/style.css?body=1\" rel=\"stylesheet\" type=\"text/css\" media=\"all\">\\n    <link href=\"http://mlqmlq.github.io/STAT628/assets/themes/twitter/css/main.css\" rel=\"stylesheet\" type=\"text/css\" media=\"all\">\\n\\n    <!-- Le fav and touch icons -->\\n\\n    <!-- atom & rss feed -->\\n    <link href=\"http://mlqmlq.github.io/STAT628nil\" type=\"application/atom+xml\" rel=\"alternate\" title=\"Sitewide ATOM Feed\">\\n    <link href=\"http://mlqmlq.github.io/STAT628nil\" type=\"application/rss+xml\" rel=\"alternate\" title=\"Sitewide RSS Feed\">\\n\\n  </head>\\n\\n  <body>\\n    <div class=\"navbar\">\\n      <div class=\"navbar-inner\">\\n        <div class=\"container-narrow\">\\n          <a class=\"brand\" href=\"http://mlqmlq.github.io/STAT628\">Data Science Practicum - STAT 628 - Fall 2020</a>\\n          <ul class=\"nav\">\\n              <li><a href=\"http://mlqmlq.github.io/STAT628/pages/schedule.html\">schedule</a></li>\\n          </ul>\\n\\n        </div>\\n      </div>\\n    </div>\\n\\n    <div class=\"container-narrow\">\\n\\n      <div class=\"content\">\\n        \\n<div class=\"page-header\">\\n  <h2>Discussion 8 </h2>\\n</div>\\n\\n<div class=\"row-fluid\">\\n  <div class=\"span12\">\\n    <h2 id=\"webcrawling\">Webcrawling</h2>\\n<hr />\\n\\n<p>The contents are from <a href=\"https://cs.brown.edu/courses/csci1951-a/\">Brown CS1951A</a>.</p>\\n\\n<ul>\\n  <li><a href=\"https://www.analyticsvidhya.com/blog/2017/03/beginners-guide-on-web-scraping-in-r-using-rvest-with-hands-on-knowledge/\">R version</a></li>\\n</ul>\\n\\n<h3 id=\"example\">Example</h3>\\n\\n<table rules=\"groups\">\\n  <thead>\\n    <tr>\\n      <th style=\"text-align: left\">Time</th>\\n      <th style=\"text-align: left\">Food</th>\\n      <th style=\"text-align: right\">Calorie</th>\\n    </tr>\\n  </thead>\\n  <tbody>\\n    <tr>\\n      <td style=\"text-align: left\">breakfast</td>\\n      <td style=\"text-align: left\">egg, milk, cereal, avocado</td>\\n      <td style=\"text-align: right\">600</td>\\n    </tr>\\n    <tr>\\n      <td style=\"text-align: left\">lunch</td>\\n      <td style=\"text-align: left\">chicken breast, brown rice, lettuce</td>\\n      <td style=\"text-align: right\">700</td>\\n    </tr>\\n    <tr>\\n      <td style=\"text-align: left\">dinner</td>\\n      <td style=\"text-align: left\">steak, sweet potato, broccoli</td>\\n      <td style=\"text-align: right\">800</td>\\n    </tr>\\n  </tbody>\\n  <tbody>\\n    <tr>\\n      <td style=\"text-align: left\">\\xc2\\xa0</td>\\n      <td style=\"text-align: left\">\\xc2\\xa0</td>\\n      <td style=\"text-align: right\">\\xc2\\xa0</td>\\n    </tr>\\n  </tbody>\\n</table>\\n\\n<p>The following are the source code for this table.</p>\\n\\n<div class=\"language-html highlighter-rouge\"><div class=\"highlight\"><pre class=\"highlight\"><code><span class=\"nt\">&lt;table</span> <span class=\"na\">rules=</span><span class=\"s\">\"groups\"</span><span class=\"nt\">&gt;</span>\\n  <span class=\"nt\">&lt;thead&gt;</span>\\n    <span class=\"nt\">&lt;tr&gt;</span>\\n      <span class=\"nt\">&lt;th</span> <span class=\"na\">style=</span><span class=\"s\">\"text-align: left\"</span><span class=\"nt\">&gt;</span>Time<span class=\"nt\">&lt;/th&gt;</span>\\n      <span class=\"nt\">&lt;th</span> <span class=\"na\">style=</span><span class=\"s\">\"text-align: left\"</span><span class=\"nt\">&gt;</span>Food<span class=\"nt\">&lt;/th&gt;</span>\\n      <span class=\"nt\">&lt;th</span> <span class=\"na\">style=</span><span class=\"s\">\"text-align: right\"</span><span class=\"nt\">&gt;</span>Calorie<span class=\"nt\">&lt;/th&gt;</span>\\n    <span class=\"nt\">&lt;/tr&gt;</span>\\n  <span class=\"nt\">&lt;/thead&gt;</span>\\n  <span class=\"nt\">&lt;tbody&gt;</span>\\n    <span class=\"nt\">&lt;tr&gt;</span>\\n      <span class=\"nt\">&lt;td</span> <span class=\"na\">style=</span><span class=\"s\">\"text-align: left\"</span><span class=\"nt\">&gt;</span>breakfast<span class=\"nt\">&lt;/td&gt;</span>\\n      <span class=\"nt\">&lt;td</span> <span class=\"na\">style=</span><span class=\"s\">\"text-align: left\"</span><span class=\"nt\">&gt;</span>egg, milk, cereal, avocado<span class=\"nt\">&lt;/td&gt;</span>\\n      <span class=\"nt\">&lt;td</span> <span class=\"na\">style=</span><span class=\"s\">\"text-align: right\"</span><span class=\"nt\">&gt;</span>600<span class=\"nt\">&lt;/td&gt;</span>\\n    <span class=\"nt\">&lt;/tr&gt;</span>\\n    <span class=\"nt\">&lt;tr&gt;</span>\\n      <span class=\"nt\">&lt;td</span> <span class=\"na\">style=</span><span class=\"s\">\"text-align: left\"</span><span class=\"nt\">&gt;</span>lunch<span class=\"nt\">&lt;/td&gt;</span>\\n      <span class=\"nt\">&lt;td</span> <span class=\"na\">style=</span><span class=\"s\">\"text-align: left\"</span><span class=\"nt\">&gt;</span>chicken breast, brown rice, lettuce<span class=\"nt\">&lt;/td&gt;</span>\\n      <span class=\"nt\">&lt;td</span> <span class=\"na\">style=</span><span class=\"s\">\"text-align: right\"</span><span class=\"nt\">&gt;</span>700<span class=\"nt\">&lt;/td&gt;</span>\\n    <span class=\"nt\">&lt;/tr&gt;</span>\\n    <span class=\"nt\">&lt;tr&gt;</span>\\n      <span class=\"nt\">&lt;td</span> <span class=\"na\">style=</span><span class=\"s\">\"text-align: left\"</span><span class=\"nt\">&gt;</span>dinner<span class=\"nt\">&lt;/td&gt;</span>\\n      <span class=\"nt\">&lt;td</span> <span class=\"na\">style=</span><span class=\"s\">\"text-align: left\"</span><span class=\"nt\">&gt;</span>steak, sweet potato, broccoli<span class=\"nt\">&lt;/td&gt;</span>\\n      <span class=\"nt\">&lt;td</span> <span class=\"na\">style=</span><span class=\"s\">\"text-align: right\"</span><span class=\"nt\">&gt;</span>800<span class=\"nt\">&lt;/td&gt;</span>\\n    <span class=\"nt\">&lt;/tr&gt;</span>\\n  <span class=\"nt\">&lt;/tbody&gt;</span>\\n  <span class=\"nt\">&lt;tbody&gt;</span>\\n    <span class=\"nt\">&lt;tr&gt;</span>\\n      <span class=\"nt\">&lt;td</span> <span class=\"na\">style=</span><span class=\"s\">\"text-align: left\"</span><span class=\"nt\">&gt;</span> <span class=\"nt\">&lt;/td&gt;</span>\\n      <span class=\"nt\">&lt;td</span> <span class=\"na\">style=</span><span class=\"s\">\"text-align: left\"</span><span class=\"nt\">&gt;</span> <span class=\"nt\">&lt;/td&gt;</span>\\n      <span class=\"nt\">&lt;td</span> <span class=\"na\">style=</span><span class=\"s\">\"text-align: right\"</span><span class=\"nt\">&gt;</span> <span class=\"nt\">&lt;/td&gt;</span>\\n    <span class=\"nt\">&lt;/tr&gt;</span>\\n  <span class=\"nt\">&lt;/tbody&gt;</span>\\n<span class=\"nt\">&lt;/table&gt;</span>\\n</code></pre></div></div>\\n\\n<p>Now lets\\xe2\\x80\\x99 use <a href=\"https://www.crummy.com/software/BeautifulSoup/bs4/doc/#installing-beautiful-soup\">BeautifulSoup</a> to parse the html.</p>\\n\\n<ul>\\n  <li><a href=\"/STAT628/assets/notebooks/webcrawling.ipynb\">Jupyter notebook</a></li>\\n</ul>\\n\\n<hr />\\n\\n\\n  </div>\\n</div>\\n\\n<script type=\"text/javascript\"\\n        src=\"https://cdnjs.cloudflare.com/ajax/libs/mathjax/2.7.0/MathJax.js?config=TeX-AMS_CHTML\"></script>\\n<script type=\"text/x-mathjax-config\">\\nMathJax.Hub.Config({\\ntex2jax: {\\ninlineMath: [[\\'$\\',\\'$\\'], [\\'\\\\\\\\(\\',\\'\\\\\\\\)\\']],\\nprocessEscapes: true},\\njax: [\"input/TeX\",\"input/MathML\",\"input/AsciiMath\",\"output/CommonHTML\"],\\nextensions: [\"tex2jax.js\",\"mml2jax.js\",\"asciimath2jax.js\",\"MathMenu.js\",\"MathZoom.js\",\"AssistiveMML.js\", \"[Contrib]/a11y/accessibility-menu.js\"],\\nTeX: {\\nextensions: [\"AMSmath.js\",\"AMSsymbols.js\",\"noErrors.js\",\"noUndefined.js\"],\\nequationNumbers: {\\nautoNumber: \"AMS\"\\n}\\n}\\n});\\n</script>\\n      </div>\\n      <hr>\\n      <footer>\\n        <p>\\n          <!-- start of footer -->\\n          Fall 2020 &nbsp;-&nbsp;\\n          <a href=\"http://mlqmlq.github.io\">Linquan Ma</a>\\n          <!-- end of footer -->\\n        </small></p>\\n      </footer>\\n\\n    </div>\\n\\n    \\n  </body>\\n</html>\\n\\n'"
      ]
     },
     "execution_count": 35,
     "metadata": {},
     "output_type": "execute_result"
    }
   ],
   "source": [
    "req_page.content ## Raw contents"
   ]
  },
  {
   "cell_type": "code",
   "execution_count": 36,
   "metadata": {},
   "outputs": [
    {
     "data": {
      "text/plain": [
       "\n",
       "<!DOCTYPE html>\n",
       "\n",
       "<html lang=\"en\">\n",
       "<head>\n",
       "<meta charset=\"utf-8\"/>\n",
       "<title>Discussion 8</title>\n",
       "<meta content=\"Linquan Ma\" name=\"author\"/>\n",
       "<!-- Enable responsive viewport -->\n",
       "<meta content=\"width=device-width, initial-scale=1.0\" name=\"viewport\"/>\n",
       "<!-- Le HTML5 shim, for IE6-8 support of HTML elements -->\n",
       "<!--[if lt IE 9]>\n",
       "      <script src=\"http://html5shim.googlecode.com/svn/trunk/html5.js\"></script>\n",
       "    <![endif]-->\n",
       "<!-- Le styles -->\n",
       "<link href=\"http://mlqmlq.github.io/STAT628/assets/themes/twitter/bootstrap/css/bootstrap.2.2.2.min.css\" rel=\"stylesheet\"/>\n",
       "<link href=\"http://mlqmlq.github.io/STAT628/assets/themes/twitter/css/style.css?body=1\" media=\"all\" rel=\"stylesheet\" type=\"text/css\"/>\n",
       "<link href=\"http://mlqmlq.github.io/STAT628/assets/themes/twitter/css/main.css\" media=\"all\" rel=\"stylesheet\" type=\"text/css\"/>\n",
       "<!-- Le fav and touch icons -->\n",
       "<!-- atom & rss feed -->\n",
       "<link href=\"http://mlqmlq.github.io/STAT628nil\" rel=\"alternate\" title=\"Sitewide ATOM Feed\" type=\"application/atom+xml\"/>\n",
       "<link href=\"http://mlqmlq.github.io/STAT628nil\" rel=\"alternate\" title=\"Sitewide RSS Feed\" type=\"application/rss+xml\"/>\n",
       "</head>\n",
       "<body>\n",
       "<div class=\"navbar\">\n",
       "<div class=\"navbar-inner\">\n",
       "<div class=\"container-narrow\">\n",
       "<a class=\"brand\" href=\"http://mlqmlq.github.io/STAT628\">Data Science Practicum - STAT 628 - Fall 2020</a>\n",
       "<ul class=\"nav\">\n",
       "<li><a href=\"http://mlqmlq.github.io/STAT628/pages/schedule.html\">schedule</a></li>\n",
       "</ul>\n",
       "</div>\n",
       "</div>\n",
       "</div>\n",
       "<div class=\"container-narrow\">\n",
       "<div class=\"content\">\n",
       "<div class=\"page-header\">\n",
       "<h2>Discussion 8 </h2>\n",
       "</div>\n",
       "<div class=\"row-fluid\">\n",
       "<div class=\"span12\">\n",
       "<h2 id=\"webcrawling\">Webcrawling</h2>\n",
       "<hr/>\n",
       "<p>The contents are from <a href=\"https://cs.brown.edu/courses/csci1951-a/\">Brown CS1951A</a>.</p>\n",
       "<ul>\n",
       "<li><a href=\"https://www.analyticsvidhya.com/blog/2017/03/beginners-guide-on-web-scraping-in-r-using-rvest-with-hands-on-knowledge/\">R version</a></li>\n",
       "</ul>\n",
       "<h3 id=\"example\">Example</h3>\n",
       "<table rules=\"groups\">\n",
       "<thead>\n",
       "<tr>\n",
       "<th style=\"text-align: left\">Time</th>\n",
       "<th style=\"text-align: left\">Food</th>\n",
       "<th style=\"text-align: right\">Calorie</th>\n",
       "</tr>\n",
       "</thead>\n",
       "<tbody>\n",
       "<tr>\n",
       "<td style=\"text-align: left\">breakfast</td>\n",
       "<td style=\"text-align: left\">egg, milk, cereal, avocado</td>\n",
       "<td style=\"text-align: right\">600</td>\n",
       "</tr>\n",
       "<tr>\n",
       "<td style=\"text-align: left\">lunch</td>\n",
       "<td style=\"text-align: left\">chicken breast, brown rice, lettuce</td>\n",
       "<td style=\"text-align: right\">700</td>\n",
       "</tr>\n",
       "<tr>\n",
       "<td style=\"text-align: left\">dinner</td>\n",
       "<td style=\"text-align: left\">steak, sweet potato, broccoli</td>\n",
       "<td style=\"text-align: right\">800</td>\n",
       "</tr>\n",
       "</tbody>\n",
       "<tbody>\n",
       "<tr>\n",
       "<td style=\"text-align: left\"> </td>\n",
       "<td style=\"text-align: left\"> </td>\n",
       "<td style=\"text-align: right\"> </td>\n",
       "</tr>\n",
       "</tbody>\n",
       "</table>\n",
       "<p>The following are the source code for this table.</p>\n",
       "<div class=\"language-html highlighter-rouge\"><div class=\"highlight\"><pre class=\"highlight\"><code><span class=\"nt\">&lt;table</span> <span class=\"na\">rules=</span><span class=\"s\">\"groups\"</span><span class=\"nt\">&gt;</span>\n",
       "  <span class=\"nt\">&lt;thead&gt;</span>\n",
       "    <span class=\"nt\">&lt;tr&gt;</span>\n",
       "      <span class=\"nt\">&lt;th</span> <span class=\"na\">style=</span><span class=\"s\">\"text-align: left\"</span><span class=\"nt\">&gt;</span>Time<span class=\"nt\">&lt;/th&gt;</span>\n",
       "      <span class=\"nt\">&lt;th</span> <span class=\"na\">style=</span><span class=\"s\">\"text-align: left\"</span><span class=\"nt\">&gt;</span>Food<span class=\"nt\">&lt;/th&gt;</span>\n",
       "      <span class=\"nt\">&lt;th</span> <span class=\"na\">style=</span><span class=\"s\">\"text-align: right\"</span><span class=\"nt\">&gt;</span>Calorie<span class=\"nt\">&lt;/th&gt;</span>\n",
       "    <span class=\"nt\">&lt;/tr&gt;</span>\n",
       "  <span class=\"nt\">&lt;/thead&gt;</span>\n",
       "  <span class=\"nt\">&lt;tbody&gt;</span>\n",
       "    <span class=\"nt\">&lt;tr&gt;</span>\n",
       "      <span class=\"nt\">&lt;td</span> <span class=\"na\">style=</span><span class=\"s\">\"text-align: left\"</span><span class=\"nt\">&gt;</span>breakfast<span class=\"nt\">&lt;/td&gt;</span>\n",
       "      <span class=\"nt\">&lt;td</span> <span class=\"na\">style=</span><span class=\"s\">\"text-align: left\"</span><span class=\"nt\">&gt;</span>egg, milk, cereal, avocado<span class=\"nt\">&lt;/td&gt;</span>\n",
       "      <span class=\"nt\">&lt;td</span> <span class=\"na\">style=</span><span class=\"s\">\"text-align: right\"</span><span class=\"nt\">&gt;</span>600<span class=\"nt\">&lt;/td&gt;</span>\n",
       "    <span class=\"nt\">&lt;/tr&gt;</span>\n",
       "    <span class=\"nt\">&lt;tr&gt;</span>\n",
       "      <span class=\"nt\">&lt;td</span> <span class=\"na\">style=</span><span class=\"s\">\"text-align: left\"</span><span class=\"nt\">&gt;</span>lunch<span class=\"nt\">&lt;/td&gt;</span>\n",
       "      <span class=\"nt\">&lt;td</span> <span class=\"na\">style=</span><span class=\"s\">\"text-align: left\"</span><span class=\"nt\">&gt;</span>chicken breast, brown rice, lettuce<span class=\"nt\">&lt;/td&gt;</span>\n",
       "      <span class=\"nt\">&lt;td</span> <span class=\"na\">style=</span><span class=\"s\">\"text-align: right\"</span><span class=\"nt\">&gt;</span>700<span class=\"nt\">&lt;/td&gt;</span>\n",
       "    <span class=\"nt\">&lt;/tr&gt;</span>\n",
       "    <span class=\"nt\">&lt;tr&gt;</span>\n",
       "      <span class=\"nt\">&lt;td</span> <span class=\"na\">style=</span><span class=\"s\">\"text-align: left\"</span><span class=\"nt\">&gt;</span>dinner<span class=\"nt\">&lt;/td&gt;</span>\n",
       "      <span class=\"nt\">&lt;td</span> <span class=\"na\">style=</span><span class=\"s\">\"text-align: left\"</span><span class=\"nt\">&gt;</span>steak, sweet potato, broccoli<span class=\"nt\">&lt;/td&gt;</span>\n",
       "      <span class=\"nt\">&lt;td</span> <span class=\"na\">style=</span><span class=\"s\">\"text-align: right\"</span><span class=\"nt\">&gt;</span>800<span class=\"nt\">&lt;/td&gt;</span>\n",
       "    <span class=\"nt\">&lt;/tr&gt;</span>\n",
       "  <span class=\"nt\">&lt;/tbody&gt;</span>\n",
       "  <span class=\"nt\">&lt;tbody&gt;</span>\n",
       "    <span class=\"nt\">&lt;tr&gt;</span>\n",
       "      <span class=\"nt\">&lt;td</span> <span class=\"na\">style=</span><span class=\"s\">\"text-align: left\"</span><span class=\"nt\">&gt;</span> <span class=\"nt\">&lt;/td&gt;</span>\n",
       "      <span class=\"nt\">&lt;td</span> <span class=\"na\">style=</span><span class=\"s\">\"text-align: left\"</span><span class=\"nt\">&gt;</span> <span class=\"nt\">&lt;/td&gt;</span>\n",
       "      <span class=\"nt\">&lt;td</span> <span class=\"na\">style=</span><span class=\"s\">\"text-align: right\"</span><span class=\"nt\">&gt;</span> <span class=\"nt\">&lt;/td&gt;</span>\n",
       "    <span class=\"nt\">&lt;/tr&gt;</span>\n",
       "  <span class=\"nt\">&lt;/tbody&gt;</span>\n",
       "<span class=\"nt\">&lt;/table&gt;</span>\n",
       "</code></pre></div></div>\n",
       "<p>Now lets’ use <a href=\"https://www.crummy.com/software/BeautifulSoup/bs4/doc/#installing-beautiful-soup\">BeautifulSoup</a> to parse the html.</p>\n",
       "<ul>\n",
       "<li><a href=\"/STAT628/assets/notebooks/webcrawling.ipynb\">Jupyter notebook</a></li>\n",
       "</ul>\n",
       "<hr/>\n",
       "</div>\n",
       "</div>\n",
       "<script src=\"https://cdnjs.cloudflare.com/ajax/libs/mathjax/2.7.0/MathJax.js?config=TeX-AMS_CHTML\" type=\"text/javascript\"></script>\n",
       "<script type=\"text/x-mathjax-config\">\n",
       "MathJax.Hub.Config({\n",
       "tex2jax: {\n",
       "inlineMath: [['$','$'], ['\\\\(','\\\\)']],\n",
       "processEscapes: true},\n",
       "jax: [\"input/TeX\",\"input/MathML\",\"input/AsciiMath\",\"output/CommonHTML\"],\n",
       "extensions: [\"tex2jax.js\",\"mml2jax.js\",\"asciimath2jax.js\",\"MathMenu.js\",\"MathZoom.js\",\"AssistiveMML.js\", \"[Contrib]/a11y/accessibility-menu.js\"],\n",
       "TeX: {\n",
       "extensions: [\"AMSmath.js\",\"AMSsymbols.js\",\"noErrors.js\",\"noUndefined.js\"],\n",
       "equationNumbers: {\n",
       "autoNumber: \"AMS\"\n",
       "}\n",
       "}\n",
       "});\n",
       "</script>\n",
       "</div>\n",
       "<hr/>\n",
       "<footer>\n",
       "<p>\n",
       "<!-- start of footer -->\n",
       "          Fall 2020  - \n",
       "          <a href=\"http://mlqmlq.github.io\">Linquan Ma</a>\n",
       "<!-- end of footer -->\n",
       "</p></footer></div></body></html>\n",
       "\n",
       "\n",
       "\n"
      ]
     },
     "execution_count": 36,
     "metadata": {},
     "output_type": "execute_result"
    }
   ],
   "source": [
    "page_content = req_page.content\n",
    "page = BeautifulSoup(page_content, 'html.parser') ## Use beacutiful to parse the html, so that it will be easy to manipulate the webpage\n",
    "page"
   ]
  },
  {
   "cell_type": "code",
   "execution_count": 37,
   "metadata": {},
   "outputs": [
    {
     "data": {
      "text/plain": [
       "<table rules=\"groups\">\n",
       "<thead>\n",
       "<tr>\n",
       "<th style=\"text-align: left\">Time</th>\n",
       "<th style=\"text-align: left\">Food</th>\n",
       "<th style=\"text-align: right\">Calorie</th>\n",
       "</tr>\n",
       "</thead>\n",
       "<tbody>\n",
       "<tr>\n",
       "<td style=\"text-align: left\">breakfast</td>\n",
       "<td style=\"text-align: left\">egg, milk, cereal, avocado</td>\n",
       "<td style=\"text-align: right\">600</td>\n",
       "</tr>\n",
       "<tr>\n",
       "<td style=\"text-align: left\">lunch</td>\n",
       "<td style=\"text-align: left\">chicken breast, brown rice, lettuce</td>\n",
       "<td style=\"text-align: right\">700</td>\n",
       "</tr>\n",
       "<tr>\n",
       "<td style=\"text-align: left\">dinner</td>\n",
       "<td style=\"text-align: left\">steak, sweet potato, broccoli</td>\n",
       "<td style=\"text-align: right\">800</td>\n",
       "</tr>\n",
       "</tbody>\n",
       "<tbody>\n",
       "<tr>\n",
       "<td style=\"text-align: left\"> </td>\n",
       "<td style=\"text-align: left\"> </td>\n",
       "<td style=\"text-align: right\"> </td>\n",
       "</tr>\n",
       "</tbody>\n",
       "</table>"
      ]
     },
     "execution_count": 37,
     "metadata": {},
     "output_type": "execute_result"
    }
   ],
   "source": [
    "page.find(\"table\")"
   ]
  },
  {
   "cell_type": "code",
   "execution_count": 38,
   "metadata": {},
   "outputs": [
    {
     "data": {
      "text/plain": [
       "[<table rules=\"groups\">\n",
       " <thead>\n",
       " <tr>\n",
       " <th style=\"text-align: left\">Time</th>\n",
       " <th style=\"text-align: left\">Food</th>\n",
       " <th style=\"text-align: right\">Calorie</th>\n",
       " </tr>\n",
       " </thead>\n",
       " <tbody>\n",
       " <tr>\n",
       " <td style=\"text-align: left\">breakfast</td>\n",
       " <td style=\"text-align: left\">egg, milk, cereal, avocado</td>\n",
       " <td style=\"text-align: right\">600</td>\n",
       " </tr>\n",
       " <tr>\n",
       " <td style=\"text-align: left\">lunch</td>\n",
       " <td style=\"text-align: left\">chicken breast, brown rice, lettuce</td>\n",
       " <td style=\"text-align: right\">700</td>\n",
       " </tr>\n",
       " <tr>\n",
       " <td style=\"text-align: left\">dinner</td>\n",
       " <td style=\"text-align: left\">steak, sweet potato, broccoli</td>\n",
       " <td style=\"text-align: right\">800</td>\n",
       " </tr>\n",
       " </tbody>\n",
       " <tbody>\n",
       " <tr>\n",
       " <td style=\"text-align: left\"> </td>\n",
       " <td style=\"text-align: left\"> </td>\n",
       " <td style=\"text-align: right\"> </td>\n",
       " </tr>\n",
       " </tbody>\n",
       " </table>]"
      ]
     },
     "execution_count": 38,
     "metadata": {},
     "output_type": "execute_result"
    }
   ],
   "source": [
    "page.find_all(\"table\")"
   ]
  },
  {
   "cell_type": "code",
   "execution_count": 39,
   "metadata": {},
   "outputs": [],
   "source": [
    "table_part = page.find(\"table\")"
   ]
  },
  {
   "cell_type": "code",
   "execution_count": 41,
   "metadata": {},
   "outputs": [
    {
     "data": {
      "text/plain": [
       "[<th style=\"text-align: left\">Time</th>,\n",
       " <th style=\"text-align: left\">Food</th>,\n",
       " <th style=\"text-align: right\">Calorie</th>]"
      ]
     },
     "execution_count": 41,
     "metadata": {},
     "output_type": "execute_result"
    }
   ],
   "source": [
    "table_part.find_all(\"th\")"
   ]
  },
  {
   "cell_type": "code",
   "execution_count": 42,
   "metadata": {
    "scrolled": true
   },
   "outputs": [
    {
     "data": {
      "text/plain": [
       "[<td style=\"text-align: left\">breakfast</td>,\n",
       " <td style=\"text-align: left\">egg, milk, cereal, avocado</td>,\n",
       " <td style=\"text-align: right\">600</td>,\n",
       " <td style=\"text-align: left\">lunch</td>,\n",
       " <td style=\"text-align: left\">chicken breast, brown rice, lettuce</td>,\n",
       " <td style=\"text-align: right\">700</td>,\n",
       " <td style=\"text-align: left\">dinner</td>,\n",
       " <td style=\"text-align: left\">steak, sweet potato, broccoli</td>,\n",
       " <td style=\"text-align: right\">800</td>,\n",
       " <td style=\"text-align: left\"> </td>,\n",
       " <td style=\"text-align: left\"> </td>,\n",
       " <td style=\"text-align: right\"> </td>]"
      ]
     },
     "execution_count": 42,
     "metadata": {},
     "output_type": "execute_result"
    }
   ],
   "source": [
    "table_part.find_all(\"td\")"
   ]
  },
  {
   "cell_type": "code",
   "execution_count": 48,
   "metadata": {},
   "outputs": [
    {
     "data": {
      "text/html": [
       "<div>\n",
       "<style scoped>\n",
       "    .dataframe tbody tr th:only-of-type {\n",
       "        vertical-align: middle;\n",
       "    }\n",
       "\n",
       "    .dataframe tbody tr th {\n",
       "        vertical-align: top;\n",
       "    }\n",
       "\n",
       "    .dataframe thead th {\n",
       "        text-align: right;\n",
       "    }\n",
       "</style>\n",
       "<table border=\"1\" class=\"dataframe\">\n",
       "  <thead>\n",
       "    <tr style=\"text-align: right;\">\n",
       "      <th></th>\n",
       "      <th>Time</th>\n",
       "      <th>Food</th>\n",
       "      <th>Calorie</th>\n",
       "    </tr>\n",
       "  </thead>\n",
       "  <tbody>\n",
       "    <tr>\n",
       "      <th>0</th>\n",
       "      <td>breakfast</td>\n",
       "      <td>egg, milk, cereal, avocado</td>\n",
       "      <td>600</td>\n",
       "    </tr>\n",
       "    <tr>\n",
       "      <th>1</th>\n",
       "      <td>lunch</td>\n",
       "      <td>chicken breast, brown rice, lettuce</td>\n",
       "      <td>700</td>\n",
       "    </tr>\n",
       "    <tr>\n",
       "      <th>2</th>\n",
       "      <td>dinner</td>\n",
       "      <td>steak, sweet potato, broccoli</td>\n",
       "      <td>800</td>\n",
       "    </tr>\n",
       "  </tbody>\n",
       "</table>\n",
       "</div>"
      ],
      "text/plain": [
       "        Time                                 Food Calorie\n",
       "0  breakfast           egg, milk, cereal, avocado     600\n",
       "1      lunch  chicken breast, brown rice, lettuce     700\n",
       "2     dinner        steak, sweet potato, broccoli     800"
      ]
     },
     "execution_count": 48,
     "metadata": {},
     "output_type": "execute_result"
    }
   ],
   "source": [
    "import numpy as np\n",
    "import pandas as pd\n",
    "content = [x.text for x in table_part.find_all(\"td\")]\n",
    "values = np.array(content[:9]).reshape(3,3)\n",
    "index = [x.text for x in table_part.find_all(\"th\")]\n",
    "pd.DataFrame(data=values, columns=index)"
   ]
  },
  {
   "cell_type": "markdown",
   "metadata": {},
   "source": [
    "## Practice\n",
    "\n",
    "This is from [Brown cs1915A scraping](https://cs.brown.edu/courses/csci1951-a/assignments/scraping.html)\n",
    "\n",
    "To get started, we’re going to want to collect some data on the most active stocks in the market. Conveniently, Yahoo Finance [publishes this exact data](https://finance.yahoo.com/most-active). To collect this data, you’ll make use of web scraping.\n",
    "\n",
    "For purposes of this assignment, we've made a copy of this page to keep the data static. Note, some of the data in our static copy is intentionally modified from real stock data to ensure you've handled edge cases. As such, you will scrape from this URL: [https://cs.brown.edu/courses/csci1951-a/resources/yahoo_finance.html](https://cs.brown.edu/courses/csci1951-a/resources/yahoo_finance.html)\n",
    "\n",
    "Before scraping, you'll need your code to access this webpage. You should make use of the `request` library to make an HTTP request and collect the HTML. If you're not familar with the `request` library, you can read about it [here](http://docs.python-requests.org/en/master).\n",
    "\n",
    "Once you have accessed the HTML and assigned it to some variable, you'll want to scrape it, collecting the following for each stock in the table.\n",
    "\n",
    "* company name\n",
    "* price\n",
    "* market cap\n",
    "* percentage daily change\n",
    "\n",
    "You'll use Beautiful Soup, a Python package, to scrape the HTML. This will require looking at the HTML structure of the Yahoo Finance page. You can select various HTML elements on a page by tag name, class name, and/or id. Using [inspect element](https://zapier.com/blog/inspect-element-tutorial/) on your web browser, you can check what HTML tags and classes contain the relevant information."
   ]
  },
  {
   "cell_type": "code",
   "execution_count": null,
   "metadata": {},
   "outputs": [],
   "source": [
    "\"\"\"Your code here\"\"\""
   ]
  },
  {
   "cell_type": "markdown",
   "metadata": {},
   "source": [
    "## API Excerse\n",
    "\n",
    "Apple today [https://api.iextrading.com/1.0/stock/aapl/chart/1d](https://api.iextrading.com/1.0/stock/aapl/chart/1d)\n",
    "\n",
    "Rather than using web scraping to collect this data, we’ll make use of an API. You’ll make requests to this API using Python’s `request` library. IEX Trading offers an API with various endpoints that offer information about stocks. We’re going to want to collect two pieces of information for each stock in Yahoo’s most active stock table:\n",
    "\n",
    "* the average closing price of each of the most active stocks over the last 6 months\n",
    "* the number of articles recently written about each stock\n",
    "\n",
    "To do this, you’ll want to make use of the [chart endpoint](https://iextrading.com/developer/docs/#chart) to collect the historical stock pricing. Then, you will want to parse through the data and average the closing price for each day.\n",
    "\n",
    "Using the [news endpoint](https://iextrading.com/developer/docs/#news), you should get the articles for a specific stock. Then, you should count how many articles were returned by the API.\n",
    "\n",
    "**Hint**: Some stocks from Yahoo are not listed on major stock exchanges, and thus the IEX Trading API does not have data on them. In this case, the IEX Trading API will return a [404 status](https://en.wikipedia.org/wiki/HTTP_404) code. Your program should handle this error by disregarding stocks from Yahoo if they are not present in the IEX Trading API. That is, these stocks should not be added to the database. You can check the status code of a request by checking `requests.get(...).status_code`"
   ]
  },
  {
   "cell_type": "code",
   "execution_count": null,
   "metadata": {},
   "outputs": [],
   "source": [
    "\"\"\"Your code here\"\"\""
   ]
  },
  {
   "cell_type": "code",
   "execution_count": null,
   "metadata": {},
   "outputs": [],
   "source": []
  }
 ],
 "metadata": {
  "kernelspec": {
   "display_name": "Python 3",
   "language": "python",
   "name": "python3"
  },
  "language_info": {
   "codemirror_mode": {
    "name": "ipython",
    "version": 3
   },
   "file_extension": ".py",
   "mimetype": "text/x-python",
   "name": "python",
   "nbconvert_exporter": "python",
   "pygments_lexer": "ipython3",
   "version": "3.8.3"
  }
 },
 "nbformat": 4,
 "nbformat_minor": 2
}
