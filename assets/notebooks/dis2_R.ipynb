{
 "cells": [
  {
   "cell_type": "code",
   "execution_count": 2,
   "metadata": {},
   "outputs": [
    {
     "name": "stderr",
     "output_type": "stream",
     "text": [
      "Updating HTML index of packages in '.Library'\n",
      "Making 'packages.html' ... done\n"
     ]
    }
   ],
   "source": [
    "install.packages(c(\"pacman\", \"tidyverse\"))"
   ]
  },
  {
   "cell_type": "code",
   "execution_count": 3,
   "metadata": {},
   "outputs": [],
   "source": [
    "library(pacman)\n",
    "p_load(dplyr, ggplot2)"
   ]
  },
  {
   "cell_type": "markdown",
   "metadata": {},
   "source": [
    "# Linear regression\n",
    "\n",
    "$$y \\sim N(X\\beta, \\sigma^2) $$\n",
    "$$\\hat{\\beta} = argmin_{\\beta} ||Y - X\\beta||^2$$\n",
    "\n",
    "**Questions**:\n",
    "    \n",
    "1. What are the assumptions for linear regression\n",
    "2. What is the consistent estimator for $\\beta$ and $\\sigma^2$\n",
    "    \n",
    "**Practice**:\n",
    "    \n",
    "1. Generate a dataset $X\\sim N(0, 1)$, with 300 observations, dimensions is 3.   \n",
    "    Use `numpy.random.randn` or call `np.random.randn`. [More distributions](https://docs.scipy.org/doc/numpy-1.15.0/reference/routines.random.html)\n",
    "2. Set $\\beta = (1, 2, 3)$ and set $\\sigma^2 = 1$\n",
    "3. Generate $y \\sim N(X\\beta, \\sigma^2)$\n",
    "4. Create a function `lm`, and give the estimates $\\hat{\\beta}_{lm}$, $var(\\hat{\\beta}_{lm})$ and $\\hat{\\sigma}$"
   ]
  },
  {
   "cell_type": "code",
   "execution_count": 4,
   "metadata": {},
   "outputs": [],
   "source": [
    "N = 300\n",
    "P = 3\n",
    "\n",
    "x = matrix(rnorm(N * P), N, P)\n",
    "beta = c(1, 2, 3)\n",
    "sigma = 1\n",
    "y = x %*% beta + rnorm(N, 0, sigma)"
   ]
  },
  {
   "cell_type": "code",
   "execution_count": null,
   "metadata": {},
   "outputs": [],
   "source": [
    "lm_my = function(x, y) {\n",
    "    ## your code here\n",
    "    return(list(beta = beta, sigma = sigma))\n",
    "}"
   ]
  },
  {
   "cell_type": "code",
   "execution_count": null,
   "metadata": {},
   "outputs": [],
   "source": [
    "(fit = lm_my(x, y))"
   ]
  },
  {
   "cell_type": "markdown",
   "metadata": {},
   "source": [
    "## [Ridge regression](https://newonlinecourses.science.psu.edu/stat508/lesson/5/5.1)\n",
    "\n",
    "**Questions**:\n",
    "\n",
    "\n",
    "1. If you have too many predictors, what are the problems?\n",
    "2. How do you solve it? List at least 3 methods.\n",
    "3. What are the properties these methods?\n",
    "\n",
    "**Programming**:\n",
    "\n",
    "1. Implement a function ridge, which is used to solve ridge regression problem\n",
    "\n",
    "$$\\hat{\\beta}_{ridge} = argmin_{\\beta} ||Y - X\\beta||^2 + \\lambda ||\\beta||^2$$\n",
    "\n",
    "2. Give the estimates of $\\hat{\\beta}_{ridge}$ and $var(\\hat{\\beta}_{ridge})$\n",
    "3. Consider what is the relationship between $\\beta_{lm}$ and $\\beta_{ridge}$\n",
    "4. What if $X'X$ is an orthogonal matrix?\n",
    "5. What is the equivalent Bayesian formulation?"
   ]
  },
  {
   "cell_type": "code",
   "execution_count": null,
   "metadata": {},
   "outputs": [],
   "source": [
    "ridge = function(x, y, tunning) {\n",
    "    ## your code here\n",
    "    return(list(beta = beta, sigma = sigma, beta_se = beta_se))\n",
    "}"
   ]
  },
  {
   "cell_type": "code",
   "execution_count": null,
   "metadata": {},
   "outputs": [],
   "source": [
    "fit_ridge = ridge(x, y, 500)"
   ]
  }
 ],
 "metadata": {
  "kernelspec": {
   "display_name": "R",
   "language": "R",
   "name": "ir"
  },
  "language_info": {
   "codemirror_mode": "r",
   "file_extension": ".r",
   "mimetype": "text/x-r-source",
   "name": "R",
   "pygments_lexer": "r",
   "version": "3.5.1"
  }
 },
 "nbformat": 4,
 "nbformat_minor": 2
}
