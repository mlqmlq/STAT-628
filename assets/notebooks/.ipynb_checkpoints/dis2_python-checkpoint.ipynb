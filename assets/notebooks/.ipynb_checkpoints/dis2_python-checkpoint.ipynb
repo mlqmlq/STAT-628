{
 "cells": [
  {
   "cell_type": "code",
   "execution_count": 18,
   "metadata": {},
   "outputs": [
    {
     "name": "stdout",
     "output_type": "stream",
     "text": [
      "Requirement already satisfied: numpy in /Users/linquanma/opt/anaconda3/lib/python3.8/site-packages (1.18.5)\n",
      "Requirement already satisfied: matplotlib in /Users/linquanma/opt/anaconda3/lib/python3.8/site-packages (3.2.2)\n",
      "Requirement already satisfied: pandas in /Users/linquanma/opt/anaconda3/lib/python3.8/site-packages (1.0.5)\n",
      "Requirement already satisfied: cycler>=0.10 in /Users/linquanma/opt/anaconda3/lib/python3.8/site-packages (from matplotlib) (0.10.0)\n",
      "Requirement already satisfied: python-dateutil>=2.1 in /Users/linquanma/opt/anaconda3/lib/python3.8/site-packages (from matplotlib) (2.8.1)\n",
      "Requirement already satisfied: kiwisolver>=1.0.1 in /Users/linquanma/opt/anaconda3/lib/python3.8/site-packages (from matplotlib) (1.2.0)\n",
      "Requirement already satisfied: pyparsing!=2.0.4,!=2.1.2,!=2.1.6,>=2.0.1 in /Users/linquanma/opt/anaconda3/lib/python3.8/site-packages (from matplotlib) (2.4.7)\n",
      "Requirement already satisfied: pytz>=2017.2 in /Users/linquanma/opt/anaconda3/lib/python3.8/site-packages (from pandas) (2020.1)\n",
      "Requirement already satisfied: six in /Users/linquanma/opt/anaconda3/lib/python3.8/site-packages (from cycler>=0.10->matplotlib) (1.15.0)\n"
     ]
    }
   ],
   "source": [
    "!pip install numpy matplotlib pandas"
   ]
  },
  {
   "cell_type": "code",
   "execution_count": 19,
   "metadata": {},
   "outputs": [],
   "source": [
    "# import module\n",
    "\n",
    "import numpy as np\n",
    "import pandas as pd\n",
    "import matplotlib.pyplot as plt"
   ]
  },
  {
   "cell_type": "code",
   "execution_count": 20,
   "metadata": {},
   "outputs": [],
   "source": [
    "%matplotlib inline"
   ]
  },
  {
   "cell_type": "markdown",
   "metadata": {},
   "source": [
    "# Create vector\n",
    "\n",
    "A single tutorial from stanford. [CS231n python tutorial](http://cs231n.github.io/python-numpy-tutorial) [Ipython notebook](https://github.com/kuleshov/cs228-material/blob/master/tutorials/python/cs228-python-tutorial.ipynb)\n",
    "\n",
    "1. [numpy tutoral](https://docs.scipy.org/doc/numpy-1.15.0/user/quickstart.html)\n",
    "2. [matplotlib tutoral](https://matplotlib.org/users/pyplot_tutorial.html)"
   ]
  },
  {
   "cell_type": "code",
   "execution_count": 21,
   "metadata": {},
   "outputs": [],
   "source": [
    "N, P = 300, 3\n",
    "\n",
    "X = np.random.uniform(-5, 5, N*P) # X from U(-5, 5)\n",
    "X = np.reshape(X, (-1, P)) # Reshape X into a N by P matrix\n",
    "beta = np.array([1, 2, 3]) # Create beta\n",
    "sigma = 1\n",
    "Y = X @ beta + np.random.randn(N) * sigma"
   ]
  },
  {
   "cell_type": "code",
   "execution_count": 32,
   "metadata": {},
   "outputs": [
    {
     "data": {
      "image/png": "[encoded data removed]",
      "text/plain": [
       "<Figure size 432x288 with 1 Axes>"
      ]
     },
     "metadata": {
      "needs_background": "light"
     },
     "output_type": "display_data"
    }
   ],
   "source": [
    "plt.figure()\n",
    "plt.plot(X[:,0], Y, 'bo')\n",
    "plt.plot(X[:,2], Y, 'ro')\n",
    "plt.show()"
   ]
  },
  {
   "cell_type": "markdown",
   "metadata": {},
   "source": [
    "# Linear regression\n",
    "\n",
    "$$y_i \\sim N(x_i\\beta, \\sigma^2) $$\n",
    "$$\\hat{\\beta} = \\arg\\min_{\\beta\\in\\mathbb R^p} ||Y - X\\beta||^2$$\n",
    "\n",
    "**Questions**:\n",
    "    \n",
    "1. What are the assumptions for linear regression\n",
    "2. What is the MLE for $\\beta$ and $\\sigma^2$\n",
    "    \n",
    "**Practice**:\n",
    "    \n",
    "1. Generate predictors $X_i\\in\\mathbb R^3$ where each element follows $U(-5, 5)$ for $i = 1,\\ldots,300$.   \n",
    "    Use `numpy.random.uniform` or call `np.random.uniform`. [More distributions](https://docs.scipy.org/doc/numpy-1.15.0/reference/routines.random.html)\n",
    "2. Set $\\beta = (1, 2, 3)$ and $\\sigma^2 = 1$.\n",
    "3. Generate $Y \\sim N(X\\beta, \\sigma^2)$\n",
    "4. Create a function `lm`, and give the estimates $\\hat{\\beta}_{lm}$, $var(\\hat{\\beta}_{lm})$ and $\\hat{\\sigma}$"
   ]
  },
  {
   "cell_type": "code",
   "execution_count": null,
   "metadata": {},
   "outputs": [],
   "source": [
    "def lm(X, Y):\n",
    "    '''\n",
    "    linear regression function used to solve ols\n",
    "    beta = (X'X)^-1 X'Y\n",
    "    var(\\hat\\beta) = \\hat\\sigma^2*(X'X)^-1\n",
    "    '''\n",
    "    return beta, sigma, var_beta"
   ]
  },
  {
   "cell_type": "code",
   "execution_count": null,
   "metadata": {},
   "outputs": [],
   "source": [
    "beta_hat, sigma_hat, var_beta = lm(X, Y)\n",
    "print(\"Linear regression result.\\n\\\n",
    "Beta: {}\\n\\\n",
    "Sigma: {}\".format(beta_hat, sigma_hat))"
   ]
  },
  {
   "cell_type": "markdown",
   "metadata": {},
   "source": [
    "## [Ridge regression](https://newonlinecourses.science.psu.edu/stat508/lesson/5/5.1)\n",
    "\n",
    "**Questions**:\n",
    "\n",
    "\n",
    "1. If you have too many predictors, what are the problems?\n",
    "2. How do you solve it? List at least 3 methods.\n",
    "3. What are the properties these methods?\n",
    "\n",
    "**Programming**:\n",
    "\n",
    "1. Implement a function ridge, which is used to solve ridge regression problem\n",
    "\n",
    "$$\\hat{\\beta}_{ridge} = \\arg\\min_{\\beta\\in\\mathbb R^p} ||Y - X\\beta||^2 + \\lambda ||\\beta||^2$$\n",
    "\n",
    "2. Give the estimates of $\\hat{\\beta}_{ridge}$ and $var(\\hat{\\beta}_{ridge})$\n",
    "3. Consider what is the relationship between $\\beta_{lm}$ and $\\beta_{ridge}$\n",
    "4. What if $X'X$ is an orthogonal matrix?\n",
    "5. What is the equivalent Bayesian formulation?"
   ]
  },
  {
   "cell_type": "code",
   "execution_count": null,
   "metadata": {},
   "outputs": [],
   "source": [
    "def ridge(x, y, tunning):\n",
    "    '''your code here'''\n",
    "    return beta, sigma, var_beta"
   ]
  },
  {
   "cell_type": "code",
   "execution_count": null,
   "metadata": {},
   "outputs": [],
   "source": [
    "beta_hat, sigma_hat, var_beta = ridge(x, y, 500)\n",
    "print(\"Linear ridge regression result.\\n\\n\\\n",
    "Beta: {}\\n\\\n",
    "Beta Var: {}\\n\\\n",
    "Sigma: {}\".format(beta_hat, var_beta, sigma_hat))"
   ]
  }
 ],
 "metadata": {
  "kernelspec": {
   "display_name": "Python 3",
   "language": "python",
   "name": "python3"
  },
  "language_info": {
   "codemirror_mode": {
    "name": "ipython",
    "version": 3
   },
   "file_extension": ".py",
   "mimetype": "text/x-python",
   "name": "python",
   "nbconvert_exporter": "python",
   "pygments_lexer": "ipython3",
   "version": "3.8.3"
  }
 },
 "nbformat": 4,
 "nbformat_minor": 2
}
